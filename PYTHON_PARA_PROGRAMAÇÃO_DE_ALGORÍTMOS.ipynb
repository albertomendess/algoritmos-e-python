{
  "nbformat": 4,
  "nbformat_minor": 0,
  "metadata": {
    "colab": {
      "name": "PYTHON PARA PROGRAMAÇÃO DE ALGORÍTMOS.ipynb",
      "provenance": [],
      "authorship_tag": "ABX9TyMAWMitp74kU2B8QooWXNEc",
      "include_colab_link": true
    },
    "kernelspec": {
      "name": "python3",
      "display_name": "Python 3"
    },
    "language_info": {
      "name": "python"
    }
  },
  "cells": [
    {
      "cell_type": "markdown",
      "metadata": {
        "id": "view-in-github",
        "colab_type": "text"
      },
      "source": [
        "<a href=\"https://colab.research.google.com/github/albertomendess/algoritmos-e-python/blob/main/PYTHON_PARA_PROGRAMA%C3%87%C3%83O_DE_ALGOR%C3%8DTMOS.ipynb\" target=\"_parent\"><img src=\"https://colab.research.google.com/assets/colab-badge.svg\" alt=\"Open In Colab\"/></a>"
      ]
    },
    {
      "cell_type": "markdown",
      "metadata": {
        "id": "SJ5Roidz2sC4"
      },
      "source": [
        ""
      ]
    },
    {
      "cell_type": "markdown",
      "metadata": {
        "id": "G223iZpc2vIE"
      },
      "source": [
        "# CRIANDO E USANDO STRINGS"
      ]
    },
    {
      "cell_type": "code",
      "metadata": {
        "colab": {
          "base_uri": "https://localhost:8080/"
        },
        "id": "EixYanNj0BDD",
        "outputId": "40c274b4-7498-463c-e361-72634a4d9125"
      },
      "source": [
        "ord(\"A\")"
      ],
      "execution_count": 1,
      "outputs": [
        {
          "output_type": "execute_result",
          "data": {
            "text/plain": [
              "65"
            ]
          },
          "metadata": {
            "tags": []
          },
          "execution_count": 1
        }
      ]
    },
    {
      "cell_type": "code",
      "metadata": {
        "colab": {
          "base_uri": "https://localhost:8080/"
        },
        "id": "6vmmeoPn0izL",
        "outputId": "aecf8a1f-5057-4d5e-b452-45776f990b55"
      },
      "source": [
        "ord(\"a\")"
      ],
      "execution_count": 2,
      "outputs": [
        {
          "output_type": "execute_result",
          "data": {
            "text/plain": [
              "97"
            ]
          },
          "metadata": {
            "tags": []
          },
          "execution_count": 2
        }
      ]
    },
    {
      "cell_type": "code",
      "metadata": {
        "id": "43_8MOlQ0tl3"
      },
      "source": [
        "a = ord(\"a\")"
      ],
      "execution_count": 3,
      "outputs": []
    },
    {
      "cell_type": "code",
      "metadata": {
        "colab": {
          "base_uri": "https://localhost:8080/"
        },
        "id": "MgHyrvyN06xy",
        "outputId": "42dbceee-f847-4041-fdfd-243feed45fa1"
      },
      "source": [
        "a"
      ],
      "execution_count": 4,
      "outputs": [
        {
          "output_type": "execute_result",
          "data": {
            "text/plain": [
              "97"
            ]
          },
          "metadata": {
            "tags": []
          },
          "execution_count": 4
        }
      ]
    },
    {
      "cell_type": "code",
      "metadata": {
        "id": "8TYDVfD208Xo"
      },
      "source": [
        "myInt = int(\"123\")"
      ],
      "execution_count": 5,
      "outputs": []
    },
    {
      "cell_type": "code",
      "metadata": {
        "colab": {
          "base_uri": "https://localhost:8080/"
        },
        "id": "TmAMToQu1MvY",
        "outputId": "34c6a6ec-2ddb-4a19-d129-ace8bb84802a"
      },
      "source": [
        "myInt"
      ],
      "execution_count": 6,
      "outputs": [
        {
          "output_type": "execute_result",
          "data": {
            "text/plain": [
              "123"
            ]
          },
          "metadata": {
            "tags": []
          },
          "execution_count": 6
        }
      ]
    },
    {
      "cell_type": "code",
      "metadata": {
        "colab": {
          "base_uri": "https://localhost:8080/",
          "height": 35
        },
        "id": "ktYM2D3o1RkB",
        "outputId": "7bb48b8c-4d4a-45c4-a858-592c87164936"
      },
      "source": [
        "myStr = str(1234.56)\n",
        "myStr"
      ],
      "execution_count": 7,
      "outputs": [
        {
          "output_type": "execute_result",
          "data": {
            "application/vnd.google.colaboratory.intrinsic+json": {
              "type": "string"
            },
            "text/plain": [
              "'1234.56'"
            ]
          },
          "metadata": {
            "tags": []
          },
          "execution_count": 7
        }
      ]
    },
    {
      "cell_type": "code",
      "metadata": {
        "id": "JZdNcl991ell"
      },
      "source": [
        "a = 1\n",
        "b = \"1\""
      ],
      "execution_count": 8,
      "outputs": []
    },
    {
      "cell_type": "markdown",
      "metadata": {
        "id": "_H3dhDrP250g"
      },
      "source": [
        "## OPERADORES DE ASSOCIAÇÃO DE PYTHON"
      ]
    },
    {
      "cell_type": "code",
      "metadata": {
        "id": "i1D2wtYU3W2Z"
      },
      "source": [
        "a = \"Hello Everyone\"\n",
        "b = \"Hello\""
      ],
      "execution_count": 14,
      "outputs": []
    },
    {
      "cell_type": "code",
      "metadata": {
        "colab": {
          "base_uri": "https://localhost:8080/"
        },
        "id": "M4NgIuJs3cJW",
        "outputId": "79daef26-c553-4476-a0df-98ae1a2cc321"
      },
      "source": [
        "b in a"
      ],
      "execution_count": 15,
      "outputs": [
        {
          "output_type": "execute_result",
          "data": {
            "text/plain": [
              "True"
            ]
          },
          "metadata": {
            "tags": []
          },
          "execution_count": 15
        }
      ]
    },
    {
      "cell_type": "code",
      "metadata": {
        "colab": {
          "base_uri": "https://localhost:8080/"
        },
        "id": "YtjuYGdM39m8",
        "outputId": "df1ba561-79ce-4ee1-f3fa-b1897e75d908"
      },
      "source": [
        "b not in a"
      ],
      "execution_count": 16,
      "outputs": [
        {
          "output_type": "execute_result",
          "data": {
            "text/plain": [
              "False"
            ]
          },
          "metadata": {
            "tags": []
          },
          "execution_count": 16
        }
      ]
    },
    {
      "cell_type": "markdown",
      "metadata": {
        "id": "v9PAbb5I2fRw"
      },
      "source": [
        "## OPERADORES DE IDENTIDADE DE PYTHON"
      ]
    },
    {
      "cell_type": "code",
      "metadata": {
        "colab": {
          "base_uri": "https://localhost:8080/"
        },
        "id": "4-mw1B732WYz",
        "outputId": "54baa0d2-94c5-4693-f6fa-e005af6857ae"
      },
      "source": [
        "a is b"
      ],
      "execution_count": 9,
      "outputs": [
        {
          "output_type": "execute_result",
          "data": {
            "text/plain": [
              "False"
            ]
          },
          "metadata": {
            "tags": []
          },
          "execution_count": 9
        }
      ]
    },
    {
      "cell_type": "code",
      "metadata": {
        "colab": {
          "base_uri": "https://localhost:8080/"
        },
        "id": "rhvSoykb2YEd",
        "outputId": "73f78726-f937-4676-e378-75797a29d95e"
      },
      "source": [
        "a is not b"
      ],
      "execution_count": 10,
      "outputs": [
        {
          "output_type": "execute_result",
          "data": {
            "text/plain": [
              "True"
            ]
          },
          "metadata": {
            "tags": []
          },
          "execution_count": 10
        }
      ]
    },
    {
      "cell_type": "markdown",
      "metadata": {
        "id": "JKFSqagn4OIO"
      },
      "source": [
        "# INTERAGINDO COM DATAS"
      ]
    },
    {
      "cell_type": "code",
      "metadata": {
        "id": "sCT9j5W12a49"
      },
      "source": [
        "import datetime"
      ],
      "execution_count": 17,
      "outputs": []
    },
    {
      "cell_type": "code",
      "metadata": {
        "colab": {
          "base_uri": "https://localhost:8080/"
        },
        "id": "vcbPEKFh5ICn",
        "outputId": "6626d8aa-aa7f-4f53-e9a6-b3a840c84510"
      },
      "source": [
        "datetime.datetime.now()"
      ],
      "execution_count": 18,
      "outputs": [
        {
          "output_type": "execute_result",
          "data": {
            "text/plain": [
              "datetime.datetime(2021, 4, 8, 9, 51, 30, 208711)"
            ]
          },
          "metadata": {
            "tags": []
          },
          "execution_count": 18
        }
      ]
    },
    {
      "cell_type": "code",
      "metadata": {
        "colab": {
          "base_uri": "https://localhost:8080/",
          "height": 35
        },
        "id": "Yvh2SmJR5NMK",
        "outputId": "9ca88a0a-11e5-48ca-8a58-5d1c11f957ce"
      },
      "source": [
        "str(datetime.datetime.now().date())"
      ],
      "execution_count": 19,
      "outputs": [
        {
          "output_type": "execute_result",
          "data": {
            "application/vnd.google.colaboratory.intrinsic+json": {
              "type": "string"
            },
            "text/plain": [
              "'2021-04-08'"
            ]
          },
          "metadata": {
            "tags": []
          },
          "execution_count": 19
        }
      ]
    },
    {
      "cell_type": "code",
      "metadata": {
        "colab": {
          "base_uri": "https://localhost:8080/",
          "height": 35
        },
        "id": "JkhXfCQg5el0",
        "outputId": "04e77ee4-4e70-40c5-c9ce-558fcb1c23b4"
      },
      "source": [
        "str(datetime.datetime.now().time())"
      ],
      "execution_count": 20,
      "outputs": [
        {
          "output_type": "execute_result",
          "data": {
            "application/vnd.google.colaboratory.intrinsic+json": {
              "type": "string"
            },
            "text/plain": [
              "'09:54:08.974325'"
            ]
          },
          "metadata": {
            "tags": []
          },
          "execution_count": 20
        }
      ]
    },
    {
      "cell_type": "markdown",
      "metadata": {
        "id": "2KTtG2l76A3v"
      },
      "source": [
        "# CRIANDO E USANDO FUNÇÕES"
      ]
    },
    {
      "cell_type": "code",
      "metadata": {
        "id": "RiEOUZ7A6Iue"
      },
      "source": [
        "def SayHello():\n",
        "    print(\"Hello There!\")"
      ],
      "execution_count": 21,
      "outputs": []
    },
    {
      "cell_type": "code",
      "metadata": {
        "colab": {
          "base_uri": "https://localhost:8080/"
        },
        "id": "n6jmcKU77rlF",
        "outputId": "27cef470-6f5c-49a5-d74b-2a60f90cdcd4"
      },
      "source": [
        "SayHello()"
      ],
      "execution_count": 23,
      "outputs": [
        {
          "output_type": "stream",
          "text": [
            "Hello There!\n"
          ],
          "name": "stdout"
        }
      ]
    },
    {
      "cell_type": "code",
      "metadata": {
        "colab": {
          "base_uri": "https://localhost:8080/"
        },
        "id": "iIdfIbm08CkB",
        "outputId": "e00693aa-34f1-473a-eaef-67ee6bf60afc"
      },
      "source": [
        "SayHello"
      ],
      "execution_count": 24,
      "outputs": [
        {
          "output_type": "execute_result",
          "data": {
            "text/plain": [
              "<function __main__.SayHello>"
            ]
          },
          "metadata": {
            "tags": []
          },
          "execution_count": 24
        }
      ]
    },
    {
      "cell_type": "markdown",
      "metadata": {
        "id": "IwM6be3P8SI4"
      },
      "source": [
        "##CHAMANDO FUNÇÕES"
      ]
    },
    {
      "cell_type": "markdown",
      "metadata": {
        "id": "-jw_wkSzn1P-"
      },
      "source": [
        "##ARGUMENTOS DE REQUISIÇÃO DE ENVIO"
      ]
    },
    {
      "cell_type": "code",
      "metadata": {
        "id": "N5MiArJb8Lx2"
      },
      "source": [
        "def DoSum(Value1, Value2):\n",
        "    return Value1 + Value2"
      ],
      "execution_count": 1,
      "outputs": []
    },
    {
      "cell_type": "code",
      "metadata": {
        "colab": {
          "base_uri": "https://localhost:8080/"
        },
        "id": "a93778NRobaS",
        "outputId": "d03c33e0-49c4-473e-8799-b0eac500f7a9"
      },
      "source": [
        "DoSum(1, 2)"
      ],
      "execution_count": 3,
      "outputs": [
        {
          "output_type": "execute_result",
          "data": {
            "text/plain": [
              "3"
            ]
          },
          "metadata": {
            "tags": []
          },
          "execution_count": 3
        }
      ]
    },
    {
      "cell_type": "markdown",
      "metadata": {
        "id": "414tSertosql"
      },
      "source": [
        "###ENVIANDO ARGUMENTOS POR PALAVRA-CHAVE"
      ]
    },
    {
      "cell_type": "code",
      "metadata": {
        "id": "ovpcCbWIoeD-"
      },
      "source": [
        "def DisplaySum(Value1, Value2):\n",
        "    print(str(Value1) + ' + ' + str(Value2) + ' = ' +\n",
        "    str((Value1 + Value2)))"
      ],
      "execution_count": 4,
      "outputs": []
    },
    {
      "cell_type": "code",
      "metadata": {
        "colab": {
          "base_uri": "https://localhost:8080/"
        },
        "id": "Yxs37A5wp6NY",
        "outputId": "51b7f3cb-6a48-40f1-d9b9-d92cf38cb38e"
      },
      "source": [
        "DisplaySum(2, 3)"
      ],
      "execution_count": 5,
      "outputs": [
        {
          "output_type": "stream",
          "text": [
            "2 + 3 = 5\n"
          ],
          "name": "stdout"
        }
      ]
    },
    {
      "cell_type": "code",
      "metadata": {
        "colab": {
          "base_uri": "https://localhost:8080/"
        },
        "id": "QzUhjiQvqUsJ",
        "outputId": "87effbe9-f62c-4e1d-d9c9-7313d9fe2615"
      },
      "source": [
        "DisplaySum(Value2=3, Value1=2)"
      ],
      "execution_count": 6,
      "outputs": [
        {
          "output_type": "stream",
          "text": [
            "2 + 3 = 5\n"
          ],
          "name": "stdout"
        }
      ]
    },
    {
      "cell_type": "markdown",
      "metadata": {
        "id": "BfrO7-xvqlu8"
      },
      "source": [
        "###DANDO UM VALOR PADRÃO A ARGUMENTOS DE FUNÇÃO"
      ]
    },
    {
      "cell_type": "code",
      "metadata": {
        "id": "M4w-S8mzqjRu"
      },
      "source": [
        "def SayHello(Greeting = \"No Value Supplied\"):\n",
        "    print(Greeting)"
      ],
      "execution_count": 7,
      "outputs": []
    },
    {
      "cell_type": "code",
      "metadata": {
        "colab": {
          "base_uri": "https://localhost:8080/"
        },
        "id": "oICz8kMkrTYS",
        "outputId": "fdd1d771-aeac-4db1-c66f-d1d1d1bd090f"
      },
      "source": [
        "SayHello()"
      ],
      "execution_count": 8,
      "outputs": [
        {
          "output_type": "stream",
          "text": [
            "No Value Supplied\n"
          ],
          "name": "stdout"
        }
      ]
    },
    {
      "cell_type": "code",
      "metadata": {
        "colab": {
          "base_uri": "https://localhost:8080/"
        },
        "id": "Q6ez8Z4XrVem",
        "outputId": "203c9298-c914-4d7d-b158-206dbd5f7341"
      },
      "source": [
        "SayHello(\"Howdy!\")"
      ],
      "execution_count": 9,
      "outputs": [
        {
          "output_type": "stream",
          "text": [
            "Howdy!\n"
          ],
          "name": "stdout"
        }
      ]
    },
    {
      "cell_type": "markdown",
      "metadata": {
        "id": "8QHkP1MZr4AU"
      },
      "source": [
        "###CRIANDO FUNÇÕES COM UM NÚMERO VARIÁVEL DE ARGUMENTOS"
      ]
    },
    {
      "cell_type": "code",
      "metadata": {
        "id": "sgrbpVdPrtr_"
      },
      "source": [
        "def DisplayMulti(ArgCount = 0, *VarArgs):\n",
        "    print(\"You passed \" + str(ArgCount) + \" arguments.\", VarArgs)"
      ],
      "execution_count": 10,
      "outputs": []
    },
    {
      "cell_type": "code",
      "metadata": {
        "colab": {
          "base_uri": "https://localhost:8080/"
        },
        "id": "-g5MfUP9tEt2",
        "outputId": "c1bfacae-2a07-4182-db24-dfe02d760646"
      },
      "source": [
        "DisplayMulti()"
      ],
      "execution_count": 11,
      "outputs": [
        {
          "output_type": "stream",
          "text": [
            "You passed 0 arguments. ()\n"
          ],
          "name": "stdout"
        }
      ]
    },
    {
      "cell_type": "code",
      "metadata": {
        "colab": {
          "base_uri": "https://localhost:8080/"
        },
        "id": "K6XLfKdDtIsG",
        "outputId": "2e91c437-6512-4941-c959-b42a36eec29e"
      },
      "source": [
        "DisplayMulti(3, 'a', 'b', 'c')"
      ],
      "execution_count": 12,
      "outputs": [
        {
          "output_type": "stream",
          "text": [
            "You passed 3 arguments. ('a', 'b', 'c')\n"
          ],
          "name": "stdout"
        }
      ]
    },
    {
      "cell_type": "markdown",
      "metadata": {
        "id": "Zotc_QcutjV7"
      },
      "source": [
        "#USANDO EXPRESSÕES CONDICIONAIS E DE LOOP"
      ]
    },
    {
      "cell_type": "markdown",
      "metadata": {
        "id": "qUVUZX3etyPM"
      },
      "source": [
        "###TOMANDO DECISÕES USANDO A EXPRESSÃO 'if'"
      ]
    },
    {
      "cell_type": "code",
      "metadata": {
        "id": "DZZ3RJvKtfNf"
      },
      "source": [
        "def TestValue(Value):\n",
        "    if Value <= 5:\n",
        "        print(\"Value less than or equal to 5\")\n",
        "    elif Value <= 10:\n",
        "        print(\"Value less than or equal to 10\")\n",
        "    else:\n",
        "        print(\"Value greater than 10.\")"
      ],
      "execution_count": 18,
      "outputs": []
    },
    {
      "cell_type": "code",
      "metadata": {
        "colab": {
          "base_uri": "https://localhost:8080/"
        },
        "id": "UfZeM8auvd3E",
        "outputId": "fae31bd8-da50-423c-adda-c8aa697fc6ee"
      },
      "source": [
        "TestValue(10)"
      ],
      "execution_count": 26,
      "outputs": [
        {
          "output_type": "stream",
          "text": [
            "Value less than or equal to 10\n"
          ],
          "name": "stdout"
        }
      ]
    },
    {
      "cell_type": "markdown",
      "metadata": {
        "id": "6mkms6sZxwgr"
      },
      "source": [
        "###ESCOLHENDO ENTRE VÁRIAS OPÇÕES USANDO DECISÕES ANINHADAS"
      ]
    },
    {
      "cell_type": "code",
      "metadata": {
        "id": "gA6Cu5sfvhqT"
      },
      "source": [
        "def SecretNumber():\n",
        "    One = int(input(\"Type a number between 1 and 10: \"))\n",
        "    Two = int(input(\"Type a number between 1 and 10: \"))\n",
        "\n",
        "    if (One >= 1) and (One <= 10):\n",
        "        if (Two >= 1) and (Two <= 10):\n",
        "            print(\"Your secret number is: \" + str(One * Two))\n",
        "        else:\n",
        "            print(\"Incorret second value!\")\n",
        "    else:\n",
        "        print(\"Incorret second value!\")"
      ],
      "execution_count": 27,
      "outputs": []
    },
    {
      "cell_type": "code",
      "metadata": {
        "colab": {
          "base_uri": "https://localhost:8080/"
        },
        "id": "XaZ2Ww7_zsxS",
        "outputId": "8eb82776-4de6-457e-faf5-4a103c90d634"
      },
      "source": [
        "SecretNumber()"
      ],
      "execution_count": 31,
      "outputs": [
        {
          "output_type": "stream",
          "text": [
            "Type a number between 1 and 10: 10\n",
            "Type a number between 1 and 10: 10\n",
            "Your secret number is: 100\n"
          ],
          "name": "stdout"
        }
      ]
    },
    {
      "cell_type": "markdown",
      "metadata": {
        "id": "taIs-HRp0eIb"
      },
      "source": [
        "###EXECUTANDO TAREFAS REPETITIVAS USANDO O CICLO REPETITIVO 'for'"
      ]
    },
    {
      "cell_type": "code",
      "metadata": {
        "id": "iQYwphgI0FS3"
      },
      "source": [
        "def DisplayMulti(*VarArgs):\n",
        "    for Arg in VarArgs:\n",
        "        if Arg.upper() == 'CONT':\n",
        "            continue\n",
        "            print(\"Continue Argument: \" + Arg)\n",
        "        elif Arg.upper() == 'BREAK':\n",
        "            break\n",
        "            print(\"Break Argument: \" + Arg)\n",
        "        print(\"Good argument: \" + Arg)"
      ],
      "execution_count": 33,
      "outputs": []
    },
    {
      "cell_type": "code",
      "metadata": {
        "colab": {
          "base_uri": "https://localhost:8080/"
        },
        "id": "bzOy9WI51uNs",
        "outputId": "0f090f3c-5273-48e6-b58e-b55a054739b3"
      },
      "source": [
        "DisplayMulti('Hello', 'Goodbye', 'Python', 'Last')"
      ],
      "execution_count": 34,
      "outputs": [
        {
          "output_type": "stream",
          "text": [
            "Good argument: Hello\n",
            "Good argument: Goodbye\n",
            "Good argument: Python\n",
            "Good argument: Last\n"
          ],
          "name": "stdout"
        }
      ]
    },
    {
      "cell_type": "code",
      "metadata": {
        "colab": {
          "base_uri": "https://localhost:8080/"
        },
        "id": "lpAwx8_O2dUc",
        "outputId": "e321ba9c-dc11-41e7-c536-98966ae31aed"
      },
      "source": [
        "DisplayMulti('Hello', 'cont', 'python', 'break', 'invisible')"
      ],
      "execution_count": 35,
      "outputs": [
        {
          "output_type": "stream",
          "text": [
            "Good argument: Hello\n",
            "Good argument: python\n"
          ],
          "name": "stdout"
        }
      ]
    },
    {
      "cell_type": "markdown",
      "metadata": {
        "id": "oroiUkYEDwXN"
      },
      "source": [
        "###USANDO A INSTRUÇÃO 'while'"
      ]
    },
    {
      "cell_type": "code",
      "metadata": {
        "id": "UR379FPL24B-"
      },
      "source": [
        ""
      ],
      "execution_count": null,
      "outputs": []
    }
  ]
}