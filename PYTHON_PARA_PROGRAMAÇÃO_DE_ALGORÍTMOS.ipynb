{
  "nbformat": 4,
  "nbformat_minor": 0,
  "metadata": {
    "colab": {
      "name": "PYTHON PARA PROGRAMAÇÃO DE ALGORÍTMOS.ipynb",
      "provenance": [],
      "authorship_tag": "ABX9TyPO3Z65ZtGjEsJmI7sFtnF6",
      "include_colab_link": true
    },
    "kernelspec": {
      "name": "python3",
      "display_name": "Python 3"
    },
    "language_info": {
      "name": "python"
    }
  },
  "cells": [
    {
      "cell_type": "markdown",
      "metadata": {
        "id": "view-in-github",
        "colab_type": "text"
      },
      "source": [
        "<a href=\"https://colab.research.google.com/github/albertomendess/algoritmos-e-python/blob/main/PYTHON_PARA_PROGRAMA%C3%87%C3%83O_DE_ALGOR%C3%8DTMOS.ipynb\" target=\"_parent\"><img src=\"https://colab.research.google.com/assets/colab-badge.svg\" alt=\"Open In Colab\"/></a>"
      ]
    },
    {
      "cell_type": "markdown",
      "metadata": {
        "id": "SJ5Roidz2sC4"
      },
      "source": [
        ""
      ]
    },
    {
      "cell_type": "markdown",
      "metadata": {
        "id": "G223iZpc2vIE"
      },
      "source": [
        "# CRIANDO E USANDO STRINGS"
      ]
    },
    {
      "cell_type": "code",
      "metadata": {
        "colab": {
          "base_uri": "https://localhost:8080/"
        },
        "id": "EixYanNj0BDD",
        "outputId": "e9b35d3d-138d-4830-ba50-b4f8ff03f782"
      },
      "source": [
        "ord(\"A\")"
      ],
      "execution_count": null,
      "outputs": [
        {
          "output_type": "execute_result",
          "data": {
            "text/plain": [
              "65"
            ]
          },
          "metadata": {
            "tags": []
          },
          "execution_count": 1
        }
      ]
    },
    {
      "cell_type": "code",
      "metadata": {
        "colab": {
          "base_uri": "https://localhost:8080/"
        },
        "id": "6vmmeoPn0izL",
        "outputId": "09d0d482-08dd-41a0-d149-e3404b08f21a"
      },
      "source": [
        "ord(\"a\")"
      ],
      "execution_count": null,
      "outputs": [
        {
          "output_type": "execute_result",
          "data": {
            "text/plain": [
              "97"
            ]
          },
          "metadata": {
            "tags": []
          },
          "execution_count": 2
        }
      ]
    },
    {
      "cell_type": "code",
      "metadata": {
        "id": "43_8MOlQ0tl3"
      },
      "source": [
        "a = ord(\"a\")"
      ],
      "execution_count": null,
      "outputs": []
    },
    {
      "cell_type": "code",
      "metadata": {
        "colab": {
          "base_uri": "https://localhost:8080/"
        },
        "id": "MgHyrvyN06xy",
        "outputId": "a6807fd4-038f-4c2b-d7f1-560ba42ae895"
      },
      "source": [
        "a"
      ],
      "execution_count": null,
      "outputs": [
        {
          "output_type": "execute_result",
          "data": {
            "text/plain": [
              "97"
            ]
          },
          "metadata": {
            "tags": []
          },
          "execution_count": 4
        }
      ]
    },
    {
      "cell_type": "code",
      "metadata": {
        "id": "8TYDVfD208Xo"
      },
      "source": [
        "myInt = int(\"123\")"
      ],
      "execution_count": null,
      "outputs": []
    },
    {
      "cell_type": "code",
      "metadata": {
        "colab": {
          "base_uri": "https://localhost:8080/"
        },
        "id": "TmAMToQu1MvY",
        "outputId": "e0a93f61-1273-4b57-de6c-3da773317627"
      },
      "source": [
        "myInt"
      ],
      "execution_count": null,
      "outputs": [
        {
          "output_type": "execute_result",
          "data": {
            "text/plain": [
              "123"
            ]
          },
          "metadata": {
            "tags": []
          },
          "execution_count": 6
        }
      ]
    },
    {
      "cell_type": "code",
      "metadata": {
        "colab": {
          "base_uri": "https://localhost:8080/",
          "height": 35
        },
        "id": "ktYM2D3o1RkB",
        "outputId": "f69d00c4-74a5-4859-e228-e06356ff40d0"
      },
      "source": [
        "myStr = str(1234.56)\n",
        "myStr"
      ],
      "execution_count": null,
      "outputs": [
        {
          "output_type": "execute_result",
          "data": {
            "application/vnd.google.colaboratory.intrinsic+json": {
              "type": "string"
            },
            "text/plain": [
              "'1234.56'"
            ]
          },
          "metadata": {
            "tags": []
          },
          "execution_count": 7
        }
      ]
    },
    {
      "cell_type": "code",
      "metadata": {
        "id": "JZdNcl991ell"
      },
      "source": [
        "a = 1\n",
        "b = \"1\""
      ],
      "execution_count": null,
      "outputs": []
    },
    {
      "cell_type": "markdown",
      "metadata": {
        "id": "_H3dhDrP250g"
      },
      "source": [
        "## OPERADORES DE ASSOCIAÇÃO DE PYTHON"
      ]
    },
    {
      "cell_type": "code",
      "metadata": {
        "id": "i1D2wtYU3W2Z"
      },
      "source": [
        "a = \"Hello Everyone\"\n",
        "b = \"Hello\""
      ],
      "execution_count": null,
      "outputs": []
    },
    {
      "cell_type": "code",
      "metadata": {
        "colab": {
          "base_uri": "https://localhost:8080/"
        },
        "id": "M4NgIuJs3cJW",
        "outputId": "1a5a439f-0acb-46ac-b9e6-0c8166165267"
      },
      "source": [
        "b in a"
      ],
      "execution_count": null,
      "outputs": [
        {
          "output_type": "execute_result",
          "data": {
            "text/plain": [
              "True"
            ]
          },
          "metadata": {
            "tags": []
          },
          "execution_count": 10
        }
      ]
    },
    {
      "cell_type": "code",
      "metadata": {
        "colab": {
          "base_uri": "https://localhost:8080/"
        },
        "id": "YtjuYGdM39m8",
        "outputId": "7e54eef3-2578-46fc-8151-bae3f5d49284"
      },
      "source": [
        "b not in a"
      ],
      "execution_count": null,
      "outputs": [
        {
          "output_type": "execute_result",
          "data": {
            "text/plain": [
              "False"
            ]
          },
          "metadata": {
            "tags": []
          },
          "execution_count": 11
        }
      ]
    },
    {
      "cell_type": "markdown",
      "metadata": {
        "id": "v9PAbb5I2fRw"
      },
      "source": [
        "## OPERADORES DE IDENTIDADE DE PYTHON"
      ]
    },
    {
      "cell_type": "code",
      "metadata": {
        "colab": {
          "base_uri": "https://localhost:8080/"
        },
        "id": "4-mw1B732WYz",
        "outputId": "f2c418ed-0282-40a2-8014-edd71aeb395a"
      },
      "source": [
        "a is b"
      ],
      "execution_count": null,
      "outputs": [
        {
          "output_type": "execute_result",
          "data": {
            "text/plain": [
              "False"
            ]
          },
          "metadata": {
            "tags": []
          },
          "execution_count": 12
        }
      ]
    },
    {
      "cell_type": "code",
      "metadata": {
        "colab": {
          "base_uri": "https://localhost:8080/"
        },
        "id": "rhvSoykb2YEd",
        "outputId": "81ef9315-b29a-4d91-ff93-9f958b579f5d"
      },
      "source": [
        "a is not b"
      ],
      "execution_count": null,
      "outputs": [
        {
          "output_type": "execute_result",
          "data": {
            "text/plain": [
              "True"
            ]
          },
          "metadata": {
            "tags": []
          },
          "execution_count": 13
        }
      ]
    },
    {
      "cell_type": "markdown",
      "metadata": {
        "id": "JKFSqagn4OIO"
      },
      "source": [
        "# INTERAGINDO COM DATAS"
      ]
    },
    {
      "cell_type": "code",
      "metadata": {
        "id": "sCT9j5W12a49"
      },
      "source": [
        "import datetime"
      ],
      "execution_count": null,
      "outputs": []
    },
    {
      "cell_type": "code",
      "metadata": {
        "colab": {
          "base_uri": "https://localhost:8080/"
        },
        "id": "vcbPEKFh5ICn",
        "outputId": "c7d5f42f-f96a-457c-e975-d4012dc65bec"
      },
      "source": [
        "datetime.datetime.now()"
      ],
      "execution_count": null,
      "outputs": [
        {
          "output_type": "execute_result",
          "data": {
            "text/plain": [
              "datetime.datetime(2021, 4, 9, 17, 55, 38, 77979)"
            ]
          },
          "metadata": {
            "tags": []
          },
          "execution_count": 15
        }
      ]
    },
    {
      "cell_type": "code",
      "metadata": {
        "colab": {
          "base_uri": "https://localhost:8080/",
          "height": 35
        },
        "id": "Yvh2SmJR5NMK",
        "outputId": "250d6919-30f1-4323-b008-0ed31748388c"
      },
      "source": [
        "str(datetime.datetime.now().date())"
      ],
      "execution_count": null,
      "outputs": [
        {
          "output_type": "execute_result",
          "data": {
            "application/vnd.google.colaboratory.intrinsic+json": {
              "type": "string"
            },
            "text/plain": [
              "'2021-04-09'"
            ]
          },
          "metadata": {
            "tags": []
          },
          "execution_count": 16
        }
      ]
    },
    {
      "cell_type": "code",
      "metadata": {
        "colab": {
          "base_uri": "https://localhost:8080/",
          "height": 35
        },
        "id": "JkhXfCQg5el0",
        "outputId": "96a57c75-abd8-4c98-965f-3db3c9eeafdc"
      },
      "source": [
        "str(datetime.datetime.now().time())"
      ],
      "execution_count": null,
      "outputs": [
        {
          "output_type": "execute_result",
          "data": {
            "application/vnd.google.colaboratory.intrinsic+json": {
              "type": "string"
            },
            "text/plain": [
              "'17:55:38.105386'"
            ]
          },
          "metadata": {
            "tags": []
          },
          "execution_count": 17
        }
      ]
    },
    {
      "cell_type": "markdown",
      "metadata": {
        "id": "2KTtG2l76A3v"
      },
      "source": [
        "# CRIANDO E USANDO FUNÇÕES"
      ]
    },
    {
      "cell_type": "code",
      "metadata": {
        "id": "RiEOUZ7A6Iue"
      },
      "source": [
        "def SayHello():\n",
        "    print(\"Hello There!\")"
      ],
      "execution_count": null,
      "outputs": []
    },
    {
      "cell_type": "code",
      "metadata": {
        "colab": {
          "base_uri": "https://localhost:8080/"
        },
        "id": "n6jmcKU77rlF",
        "outputId": "63f98121-1404-443d-859d-d3ef9b73fb0a"
      },
      "source": [
        "SayHello()"
      ],
      "execution_count": null,
      "outputs": [
        {
          "output_type": "stream",
          "text": [
            "Hello There!\n"
          ],
          "name": "stdout"
        }
      ]
    },
    {
      "cell_type": "code",
      "metadata": {
        "colab": {
          "base_uri": "https://localhost:8080/"
        },
        "id": "iIdfIbm08CkB",
        "outputId": "b8551b2f-0726-4265-8aa8-716578e17af5"
      },
      "source": [
        "SayHello"
      ],
      "execution_count": null,
      "outputs": [
        {
          "output_type": "execute_result",
          "data": {
            "text/plain": [
              "<function __main__.SayHello>"
            ]
          },
          "metadata": {
            "tags": []
          },
          "execution_count": 20
        }
      ]
    },
    {
      "cell_type": "markdown",
      "metadata": {
        "id": "IwM6be3P8SI4"
      },
      "source": [
        "##CHAMANDO FUNÇÕES"
      ]
    },
    {
      "cell_type": "markdown",
      "metadata": {
        "id": "-jw_wkSzn1P-"
      },
      "source": [
        "##ARGUMENTOS DE REQUISIÇÃO DE ENVIO"
      ]
    },
    {
      "cell_type": "code",
      "metadata": {
        "id": "N5MiArJb8Lx2"
      },
      "source": [
        "def DoSum(Value1, Value2):\n",
        "    return Value1 + Value2"
      ],
      "execution_count": null,
      "outputs": []
    },
    {
      "cell_type": "code",
      "metadata": {
        "colab": {
          "base_uri": "https://localhost:8080/"
        },
        "id": "a93778NRobaS",
        "outputId": "e09fdb83-2ac7-40b2-803a-2e19462765a2"
      },
      "source": [
        "DoSum(1, 2)"
      ],
      "execution_count": null,
      "outputs": [
        {
          "output_type": "execute_result",
          "data": {
            "text/plain": [
              "3"
            ]
          },
          "metadata": {
            "tags": []
          },
          "execution_count": 22
        }
      ]
    },
    {
      "cell_type": "markdown",
      "metadata": {
        "id": "414tSertosql"
      },
      "source": [
        "###ENVIANDO ARGUMENTOS POR PALAVRA-CHAVE"
      ]
    },
    {
      "cell_type": "code",
      "metadata": {
        "id": "ovpcCbWIoeD-"
      },
      "source": [
        "def DisplaySum(Value1, Value2):\n",
        "    print(str(Value1) + ' + ' + str(Value2) + ' = ' +\n",
        "    str((Value1 + Value2)))"
      ],
      "execution_count": null,
      "outputs": []
    },
    {
      "cell_type": "code",
      "metadata": {
        "colab": {
          "base_uri": "https://localhost:8080/"
        },
        "id": "Yxs37A5wp6NY",
        "outputId": "186ee7f7-f01b-4a60-b3cf-3bd469a7db22"
      },
      "source": [
        "DisplaySum(2, 3)"
      ],
      "execution_count": null,
      "outputs": [
        {
          "output_type": "stream",
          "text": [
            "2 + 3 = 5\n"
          ],
          "name": "stdout"
        }
      ]
    },
    {
      "cell_type": "code",
      "metadata": {
        "colab": {
          "base_uri": "https://localhost:8080/"
        },
        "id": "QzUhjiQvqUsJ",
        "outputId": "78a73b8b-2994-43f9-84d1-e35632d2f4b1"
      },
      "source": [
        "DisplaySum(Value2=3, Value1=2)"
      ],
      "execution_count": null,
      "outputs": [
        {
          "output_type": "stream",
          "text": [
            "2 + 3 = 5\n"
          ],
          "name": "stdout"
        }
      ]
    },
    {
      "cell_type": "markdown",
      "metadata": {
        "id": "BfrO7-xvqlu8"
      },
      "source": [
        "###DANDO UM VALOR PADRÃO A ARGUMENTOS DE FUNÇÃO"
      ]
    },
    {
      "cell_type": "code",
      "metadata": {
        "id": "M4w-S8mzqjRu"
      },
      "source": [
        "def SayHello(Greeting = \"No Value Supplied\"):\n",
        "    print(Greeting)"
      ],
      "execution_count": null,
      "outputs": []
    },
    {
      "cell_type": "code",
      "metadata": {
        "colab": {
          "base_uri": "https://localhost:8080/"
        },
        "id": "oICz8kMkrTYS",
        "outputId": "014ba0d9-6e7b-4e53-f478-b23be823e2af"
      },
      "source": [
        "SayHello()"
      ],
      "execution_count": null,
      "outputs": [
        {
          "output_type": "stream",
          "text": [
            "No Value Supplied\n"
          ],
          "name": "stdout"
        }
      ]
    },
    {
      "cell_type": "code",
      "metadata": {
        "colab": {
          "base_uri": "https://localhost:8080/"
        },
        "id": "Q6ez8Z4XrVem",
        "outputId": "25650745-8fef-4166-e1e4-bedad2c547c6"
      },
      "source": [
        "SayHello(\"Howdy!\")"
      ],
      "execution_count": null,
      "outputs": [
        {
          "output_type": "stream",
          "text": [
            "Howdy!\n"
          ],
          "name": "stdout"
        }
      ]
    },
    {
      "cell_type": "markdown",
      "metadata": {
        "id": "8QHkP1MZr4AU"
      },
      "source": [
        "###CRIANDO FUNÇÕES COM UM NÚMERO VARIÁVEL DE ARGUMENTOS"
      ]
    },
    {
      "cell_type": "code",
      "metadata": {
        "id": "sgrbpVdPrtr_"
      },
      "source": [
        "def DisplayMulti(ArgCount = 0, *VarArgs):\n",
        "    print(\"You passed \" + str(ArgCount) + \" arguments.\", VarArgs)"
      ],
      "execution_count": null,
      "outputs": []
    },
    {
      "cell_type": "code",
      "metadata": {
        "colab": {
          "base_uri": "https://localhost:8080/"
        },
        "id": "-g5MfUP9tEt2",
        "outputId": "1c50a999-a113-462e-aeed-587972294559"
      },
      "source": [
        "DisplayMulti()"
      ],
      "execution_count": null,
      "outputs": [
        {
          "output_type": "stream",
          "text": [
            "You passed 0 arguments. ()\n"
          ],
          "name": "stdout"
        }
      ]
    },
    {
      "cell_type": "code",
      "metadata": {
        "colab": {
          "base_uri": "https://localhost:8080/"
        },
        "id": "K6XLfKdDtIsG",
        "outputId": "fe1ad3ca-1f01-4515-d912-53b550a1cf46"
      },
      "source": [
        "DisplayMulti(3, 'a', 'b', 'c')"
      ],
      "execution_count": null,
      "outputs": [
        {
          "output_type": "stream",
          "text": [
            "You passed 3 arguments. ('a', 'b', 'c')\n"
          ],
          "name": "stdout"
        }
      ]
    },
    {
      "cell_type": "markdown",
      "metadata": {
        "id": "Zotc_QcutjV7"
      },
      "source": [
        "#USANDO EXPRESSÕES CONDICIONAIS E DE LOOP"
      ]
    },
    {
      "cell_type": "markdown",
      "metadata": {
        "id": "qUVUZX3etyPM"
      },
      "source": [
        "###TOMANDO DECISÕES USANDO A EXPRESSÃO 'if'"
      ]
    },
    {
      "cell_type": "code",
      "metadata": {
        "id": "DZZ3RJvKtfNf"
      },
      "source": [
        "def TestValue(Value):\n",
        "    if Value <= 5:\n",
        "        print(\"Value less than or equal to 5\")\n",
        "    elif Value <= 10:\n",
        "        print(\"Value less than or equal to 10\")\n",
        "    else:\n",
        "        print(\"Value greater than 10.\")"
      ],
      "execution_count": null,
      "outputs": []
    },
    {
      "cell_type": "code",
      "metadata": {
        "colab": {
          "base_uri": "https://localhost:8080/"
        },
        "id": "UfZeM8auvd3E",
        "outputId": "3122c775-06e1-4303-e381-e5381eb14445"
      },
      "source": [
        "TestValue(10)"
      ],
      "execution_count": null,
      "outputs": [
        {
          "output_type": "stream",
          "text": [
            "Value less than or equal to 10\n"
          ],
          "name": "stdout"
        }
      ]
    },
    {
      "cell_type": "markdown",
      "metadata": {
        "id": "6mkms6sZxwgr"
      },
      "source": [
        "###ESCOLHENDO ENTRE VÁRIAS OPÇÕES USANDO DECISÕES ANINHADAS"
      ]
    },
    {
      "cell_type": "code",
      "metadata": {
        "id": "gA6Cu5sfvhqT"
      },
      "source": [
        "def SecretNumber():\n",
        "    One = int(input(\"Type a number between 1 and 10: \"))\n",
        "    Two = int(input(\"Type a number between 1 and 10: \"))\n",
        "\n",
        "    if (One >= 1) and (One <= 10):\n",
        "        if (Two >= 1) and (Two <= 10):\n",
        "            print(\"Your secret number is: \" + str(One * Two))\n",
        "        else:\n",
        "            print(\"Incorret second value!\")\n",
        "    else:\n",
        "        print(\"Incorret second value!\")"
      ],
      "execution_count": null,
      "outputs": []
    },
    {
      "cell_type": "code",
      "metadata": {
        "colab": {
          "base_uri": "https://localhost:8080/"
        },
        "id": "XaZ2Ww7_zsxS",
        "outputId": "f23787f0-7e3d-42a9-946d-eee0ffd37ac7"
      },
      "source": [
        "SecretNumber()"
      ],
      "execution_count": null,
      "outputs": [
        {
          "output_type": "stream",
          "text": [
            "Type a number between 1 and 10: 1\n",
            "Type a number between 1 and 10: 2\n",
            "Your secret number is: 2\n"
          ],
          "name": "stdout"
        }
      ]
    },
    {
      "cell_type": "markdown",
      "metadata": {
        "id": "taIs-HRp0eIb"
      },
      "source": [
        "###EXECUTANDO TAREFAS REPETITIVAS USANDO O CICLO REPETITIVO 'for'"
      ]
    },
    {
      "cell_type": "code",
      "metadata": {
        "id": "iQYwphgI0FS3"
      },
      "source": [
        "def DisplayMulti(*VarArgs):\n",
        "    for Arg in VarArgs:\n",
        "        if Arg.upper() == 'CONT':\n",
        "            continue\n",
        "            print(\"Continue Argument: \" + Arg)\n",
        "        elif Arg.upper() == 'BREAK':\n",
        "            break\n",
        "            print(\"Break Argument: \" + Arg)\n",
        "        print(\"Good argument: \" + Arg)"
      ],
      "execution_count": null,
      "outputs": []
    },
    {
      "cell_type": "code",
      "metadata": {
        "colab": {
          "base_uri": "https://localhost:8080/"
        },
        "id": "bzOy9WI51uNs",
        "outputId": "be117415-6219-487c-c031-0f62b0df07dd"
      },
      "source": [
        "DisplayMulti('Hello', 'Goodbye', 'Python', 'Last')"
      ],
      "execution_count": null,
      "outputs": [
        {
          "output_type": "stream",
          "text": [
            "Good argument: Hello\n",
            "Good argument: Goodbye\n",
            "Good argument: Python\n",
            "Good argument: Last\n"
          ],
          "name": "stdout"
        }
      ]
    },
    {
      "cell_type": "code",
      "metadata": {
        "colab": {
          "base_uri": "https://localhost:8080/"
        },
        "id": "lpAwx8_O2dUc",
        "outputId": "98f1e9af-435d-4eef-ef54-9a428d4ec9ac"
      },
      "source": [
        "DisplayMulti('Hello', 'cont', 'python', 'break', 'invisible')"
      ],
      "execution_count": null,
      "outputs": [
        {
          "output_type": "stream",
          "text": [
            "Good argument: Hello\n",
            "Good argument: python\n"
          ],
          "name": "stdout"
        }
      ]
    },
    {
      "cell_type": "markdown",
      "metadata": {
        "id": "oroiUkYEDwXN"
      },
      "source": [
        "###USANDO A INSTRUÇÃO 'while'"
      ]
    },
    {
      "cell_type": "code",
      "metadata": {
        "id": "UR379FPL24B-"
      },
      "source": [
        "def SecretNumber():\n",
        "    GotIt = False\n",
        "    while GotIt == False:\n",
        "        One = int(input(\"Type a number between 1 and 10: \"))\n",
        "        Two = int(input(\"Type a number between 1 and 10: \"))\n",
        "\n",
        "        if (One >= 1) and (One <= 10):\n",
        "            if (Two >= 1) and (Two <= 10):\n",
        "                print(\"Secret number is: \" + str(One * Two))\n",
        "                GotIt = True\n",
        "                continue\n",
        "            else:\n",
        "                print(\"Incorrect second value!\")\n",
        "        else:\n",
        "            print(\"Incorrect first value!\")\n",
        "        print(\"Try again!\")"
      ],
      "execution_count": 39,
      "outputs": []
    },
    {
      "cell_type": "code",
      "metadata": {
        "colab": {
          "base_uri": "https://localhost:8080/"
        },
        "id": "SbXLg2ULA4oH",
        "outputId": "f73b040f-3313-4451-e309-68dd9c0a28bd"
      },
      "source": [
        "SecretNumber()"
      ],
      "execution_count": 40,
      "outputs": [
        {
          "output_type": "stream",
          "text": [
            "Type a number between 1 and 10: 20\n",
            "Type a number between 1 and 10: 10\n",
            "Incorrect first value!\n",
            "Try again!\n",
            "Type a number between 1 and 10: 10\n",
            "Type a number between 1 and 10: 20\n",
            "Incorrect second value!\n",
            "Try again!\n",
            "Type a number between 1 and 10: 10\n",
            "Type a number between 1 and 10: 10\n",
            "Secret number is: 100\n"
          ],
          "name": "stdout"
        }
      ]
    },
    {
      "cell_type": "markdown",
      "metadata": {
        "id": "U7BOTrXRUs_h"
      },
      "source": [
        "#ARMAZENANDO DADOS EM CONJUNTOS, LISTAS E TUPLAS"
      ]
    },
    {
      "cell_type": "markdown",
      "metadata": {
        "id": "h2WHiNTdXoeO"
      },
      "source": [
        "###CRIANDO CONJUNTOS"
      ]
    },
    {
      "cell_type": "code",
      "metadata": {
        "id": "Yr_c6H4fBM7U"
      },
      "source": [
        "setA = set(['red', 'Blue', 'Green', 'Black'])\n",
        "setB = set(['Black', 'Green', 'Yellow', 'Orange'])\n",
        "setX = setA.union(setB)\n",
        "setY = setA.intersection(setB)\n",
        "setZ = setA.difference(setB)"
      ],
      "execution_count": 43,
      "outputs": []
    },
    {
      "cell_type": "code",
      "metadata": {
        "colab": {
          "base_uri": "https://localhost:8080/"
        },
        "id": "eWKQnfiKWHv5",
        "outputId": "5a8a8b6d-fdce-4b84-84a4-8a5271727608"
      },
      "source": [
        "print('{0}\\n{1}\\n{2}'.format(setX, setY, setZ))"
      ],
      "execution_count": 44,
      "outputs": [
        {
          "output_type": "stream",
          "text": [
            "{'Blue', 'Green', 'red', 'Black', 'Orange', 'Yellow'}\n",
            "{'Black', 'Green'}\n",
            "{'red', 'Blue'}\n"
          ],
          "name": "stdout"
        }
      ]
    },
    {
      "cell_type": "code",
      "metadata": {
        "colab": {
          "base_uri": "https://localhost:8080/"
        },
        "id": "Fh5uDfyAX1wJ",
        "outputId": "aaa1b156-710d-43a5-fb39-0b25dcc13d6a"
      },
      "source": [
        "setA.issubset(setX)"
      ],
      "execution_count": 45,
      "outputs": [
        {
          "output_type": "execute_result",
          "data": {
            "text/plain": [
              "True"
            ]
          },
          "metadata": {
            "tags": []
          },
          "execution_count": 45
        }
      ]
    },
    {
      "cell_type": "code",
      "metadata": {
        "id": "M0Xzgb4TYATe",
        "colab": {
          "base_uri": "https://localhost:8080/"
        },
        "outputId": "d4b1508c-a157-4c87-d718-f8897261c812"
      },
      "source": [
        "setA.issuperset(setY)"
      ],
      "execution_count": 47,
      "outputs": [
        {
          "output_type": "execute_result",
          "data": {
            "text/plain": [
              "True"
            ]
          },
          "metadata": {
            "tags": []
          },
          "execution_count": 47
        }
      ]
    },
    {
      "cell_type": "code",
      "metadata": {
        "colab": {
          "base_uri": "https://localhost:8080/"
        },
        "id": "dLEz2IKQYWgp",
        "outputId": "fbaeeea8-33bf-4cf9-ab86-dfb485b7b7a2"
      },
      "source": [
        "setA.add('Purple')\n",
        "setA"
      ],
      "execution_count": 49,
      "outputs": [
        {
          "output_type": "execute_result",
          "data": {
            "text/plain": [
              "{'Black', 'Blue', 'Green', 'Purple', 'red'}"
            ]
          },
          "metadata": {
            "tags": []
          },
          "execution_count": 49
        }
      ]
    },
    {
      "cell_type": "code",
      "metadata": {
        "colab": {
          "base_uri": "https://localhost:8080/"
        },
        "id": "A9VBs55CYkdZ",
        "outputId": "2f01d761-0153-47d1-ab81-b1bfeee4f0a0"
      },
      "source": [
        "setA.issubset(setX)"
      ],
      "execution_count": 51,
      "outputs": [
        {
          "output_type": "execute_result",
          "data": {
            "text/plain": [
              "False"
            ]
          },
          "metadata": {
            "tags": []
          },
          "execution_count": 51
        }
      ]
    },
    {
      "cell_type": "markdown",
      "metadata": {
        "id": "Y4PYsLjBXs0H"
      },
      "source": [
        "###CRIANDO LISTAS"
      ]
    },
    {
      "cell_type": "code",
      "metadata": {
        "id": "xMycpYlmWfCx"
      },
      "source": [
        "listA = [0, 1, 2, 3]\n",
        "listB = [4, 5, 6, 7]"
      ],
      "execution_count": 52,
      "outputs": []
    },
    {
      "cell_type": "code",
      "metadata": {
        "id": "a8B8mZsZaSAw"
      },
      "source": [
        "listA.extend(listB)"
      ],
      "execution_count": 53,
      "outputs": []
    },
    {
      "cell_type": "code",
      "metadata": {
        "colab": {
          "base_uri": "https://localhost:8080/"
        },
        "id": "pJXiOI0iaWXf",
        "outputId": "dc0388ff-a1c6-49cd-b792-1a428ec81514"
      },
      "source": [
        "listA"
      ],
      "execution_count": 56,
      "outputs": [
        {
          "output_type": "execute_result",
          "data": {
            "text/plain": [
              "[0, 1, 2, 3, 4, 5, 6, 7, -5]"
            ]
          },
          "metadata": {
            "tags": []
          },
          "execution_count": 56
        }
      ]
    },
    {
      "cell_type": "code",
      "metadata": {
        "id": "QjNq-wujaYSm"
      },
      "source": [
        "listA.append(-5)"
      ],
      "execution_count": 55,
      "outputs": []
    },
    {
      "cell_type": "code",
      "metadata": {
        "colab": {
          "base_uri": "https://localhost:8080/"
        },
        "id": "lOU8B-dlalsq",
        "outputId": "c8edd14a-f256-46e6-886d-034efd2a9f9d"
      },
      "source": [
        "listA"
      ],
      "execution_count": 57,
      "outputs": [
        {
          "output_type": "execute_result",
          "data": {
            "text/plain": [
              "[0, 1, 2, 3, 4, 5, 6, 7, -5]"
            ]
          },
          "metadata": {
            "tags": []
          },
          "execution_count": 57
        }
      ]
    },
    {
      "cell_type": "code",
      "metadata": {
        "id": "v0nxRT1baqRP"
      },
      "source": [
        "listA.remove(-5)"
      ],
      "execution_count": 58,
      "outputs": []
    },
    {
      "cell_type": "code",
      "metadata": {
        "colab": {
          "base_uri": "https://localhost:8080/"
        },
        "id": "t1ED5-Hra3Pp",
        "outputId": "a80b0d44-0943-4a30-cf0c-6b5ea87676c5"
      },
      "source": [
        "listA"
      ],
      "execution_count": 59,
      "outputs": [
        {
          "output_type": "execute_result",
          "data": {
            "text/plain": [
              "[0, 1, 2, 3, 4, 5, 6, 7]"
            ]
          },
          "metadata": {
            "tags": []
          },
          "execution_count": 59
        }
      ]
    },
    {
      "cell_type": "code",
      "metadata": {
        "id": "92-3_Woqa4h0"
      },
      "source": [
        "listX = [10, 20, 30, 40]\n",
        "listY = [50, 60, 70, 80]"
      ],
      "execution_count": 60,
      "outputs": []
    },
    {
      "cell_type": "code",
      "metadata": {
        "id": "iA0UDgnFbNls"
      },
      "source": [
        "listZ = listX + listY"
      ],
      "execution_count": 61,
      "outputs": []
    },
    {
      "cell_type": "code",
      "metadata": {
        "colab": {
          "base_uri": "https://localhost:8080/"
        },
        "id": "aaKIDBnlbTvs",
        "outputId": "d14f5662-e52a-4098-d6e6-dde1902cbc0c"
      },
      "source": [
        "listZ"
      ],
      "execution_count": 62,
      "outputs": [
        {
          "output_type": "execute_result",
          "data": {
            "text/plain": [
              "[10, 20, 30, 40, 50, 60, 70, 80]"
            ]
          },
          "metadata": {
            "tags": []
          },
          "execution_count": 62
        }
      ]
    },
    {
      "cell_type": "code",
      "metadata": {
        "colab": {
          "base_uri": "https://localhost:8080/"
        },
        "id": "gvgAZ4zLbWis",
        "outputId": "718b4248-47f0-4de3-f31a-f88ae43666b1"
      },
      "source": [
        "listX"
      ],
      "execution_count": 63,
      "outputs": [
        {
          "output_type": "execute_result",
          "data": {
            "text/plain": [
              "[10, 20, 30, 40]"
            ]
          },
          "metadata": {
            "tags": []
          },
          "execution_count": 63
        }
      ]
    },
    {
      "cell_type": "code",
      "metadata": {
        "colab": {
          "base_uri": "https://localhost:8080/"
        },
        "id": "CPMQ00vGbYFX",
        "outputId": "fceb988c-cdb3-4c9f-bab6-cd9790c0863d"
      },
      "source": [
        "listY"
      ],
      "execution_count": 64,
      "outputs": [
        {
          "output_type": "execute_result",
          "data": {
            "text/plain": [
              "[50, 60, 70, 80]"
            ]
          },
          "metadata": {
            "tags": []
          },
          "execution_count": 64
        }
      ]
    },
    {
      "cell_type": "markdown",
      "metadata": {
        "id": "1medhPHhcF0u"
      },
      "source": [
        "###CRIANDO E USANDO TUPLAS"
      ]
    },
    {
      "cell_type": "code",
      "metadata": {
        "id": "6oWg2fxTb-Uq"
      },
      "source": [
        "myTuple = (1, 2, 3, (4, 5, 6, (7, 8, 9)))"
      ],
      "execution_count": 67,
      "outputs": []
    },
    {
      "cell_type": "code",
      "metadata": {
        "colab": {
          "base_uri": "https://localhost:8080/"
        },
        "id": "uGXda-0Ic99t",
        "outputId": "673136d7-a79b-43d2-f0ac-5b8f729e1ad5"
      },
      "source": [
        "for value1 in myTuple:\n",
        "    if type(value1) == int:\n",
        "        print(value1)\n",
        "    else:\n",
        "        for value2 in value1:\n",
        "            if type(value2) == int:\n",
        "                print(\"\\t\", value2)\n",
        "            else:\n",
        "                for value3 in value2:\n",
        "                    print(\"\\t\\t\", value3)"
      ],
      "execution_count": 68,
      "outputs": [
        {
          "output_type": "stream",
          "text": [
            "1\n",
            "2\n",
            "3\n",
            "\t 4\n",
            "\t 5\n",
            "\t 6\n",
            "\t\t 7\n",
            "\t\t 8\n",
            "\t\t 9\n"
          ],
          "name": "stdout"
        }
      ]
    },
    {
      "cell_type": "code",
      "metadata": {
        "colab": {
          "base_uri": "https://localhost:8080/"
        },
        "id": "fgltlFfKdzx7",
        "outputId": "a8bf3bfa-be32-45f9-fbce-1875406d99e3"
      },
      "source": [
        "myNewTuple = myTuple.__add__((10, 11, 12, (13, 14, 15)))\n",
        "myNewTuple"
      ],
      "execution_count": 69,
      "outputs": [
        {
          "output_type": "execute_result",
          "data": {
            "text/plain": [
              "(1, 2, 3, (4, 5, 6, (7, 8, 9)), 10, 11, 12, (13, 14, 15))"
            ]
          },
          "metadata": {
            "tags": []
          },
          "execution_count": 69
        }
      ]
    },
    {
      "cell_type": "markdown",
      "metadata": {
        "id": "cAoLLa-BeXk6"
      },
      "source": [
        "#DEFININDO ITERADORES ÚTEIS"
      ]
    },
    {
      "cell_type": "code",
      "metadata": {
        "id": "YXUeg9kjeiJ5"
      },
      "source": [
        "listA = ['Orange', 'Yellow', 'Green', 'Brown', 'Red']\n",
        "listB = [1, 2, 3, 4, 5]"
      ],
      "execution_count": 78,
      "outputs": []
    },
    {
      "cell_type": "code",
      "metadata": {
        "colab": {
          "base_uri": "https://localhost:8080/",
          "height": 35
        },
        "id": "lDfiDeVZez9W",
        "outputId": "2cec5acd-3468-4b2a-f5c9-1d8cfa8ac0ed"
      },
      "source": [
        "listA[1]"
      ],
      "execution_count": 71,
      "outputs": [
        {
          "output_type": "execute_result",
          "data": {
            "application/vnd.google.colaboratory.intrinsic+json": {
              "type": "string"
            },
            "text/plain": [
              "'Yellow'"
            ]
          },
          "metadata": {
            "tags": []
          },
          "execution_count": 71
        }
      ]
    },
    {
      "cell_type": "code",
      "metadata": {
        "colab": {
          "base_uri": "https://localhost:8080/"
        },
        "id": "qSqH-JqBe48K",
        "outputId": "f297e75f-81bf-478a-d7ed-2de0e17f783d"
      },
      "source": [
        "for value in listB[1:3]:\n",
        "    print(value)"
      ],
      "execution_count": 72,
      "outputs": [
        {
          "output_type": "stream",
          "text": [
            "2\n",
            "3\n"
          ],
          "name": "stdout"
        }
      ]
    },
    {
      "cell_type": "code",
      "metadata": {
        "colab": {
          "base_uri": "https://localhost:8080/"
        },
        "id": "pbclESd7fJu8",
        "outputId": "e2d65f36-ade0-4b7c-8412-0428218e7229"
      },
      "source": [
        "listA[:3]"
      ],
      "execution_count": 73,
      "outputs": [
        {
          "output_type": "execute_result",
          "data": {
            "text/plain": [
              "['Orange', 'Yellow', 'Green']"
            ]
          },
          "metadata": {
            "tags": []
          },
          "execution_count": 73
        }
      ]
    },
    {
      "cell_type": "code",
      "metadata": {
        "colab": {
          "base_uri": "https://localhost:8080/"
        },
        "id": "Kg3eo2Tzfle_",
        "outputId": "e80c29c2-54f8-4c6c-f5a6-f40956e8075d"
      },
      "source": [
        "for value1, value2 in zip(listA, listB):\n",
        "    print(value1, '\\t', value2)"
      ],
      "execution_count": 79,
      "outputs": [
        {
          "output_type": "stream",
          "text": [
            "Orange \t 1\n",
            "Yellow \t 2\n",
            "Green \t 3\n",
            "Brown \t 4\n",
            "Red \t 5\n"
          ],
          "name": "stdout"
        }
      ]
    },
    {
      "cell_type": "markdown",
      "metadata": {
        "id": "Fn38UgcNf__J"
      },
      "source": [
        "#INDEXANDO DADOS USANDO DICIONÁRIOS"
      ]
    },
    {
      "cell_type": "code",
      "metadata": {
        "id": "kBr2TX7Ngjd9"
      },
      "source": [
        "myDict = {'Orange': 1, 'Blue': 2, 'Pink':3}"
      ],
      "execution_count": 80,
      "outputs": []
    },
    {
      "cell_type": "code",
      "metadata": {
        "colab": {
          "base_uri": "https://localhost:8080/"
        },
        "id": "kxXyod9kg9ya",
        "outputId": "2d50af3e-6dcd-4584-c30c-5c857a2ee2ed"
      },
      "source": [
        "myDict"
      ],
      "execution_count": 81,
      "outputs": [
        {
          "output_type": "execute_result",
          "data": {
            "text/plain": [
              "{'Blue': 2, 'Orange': 1, 'Pink': 3}"
            ]
          },
          "metadata": {
            "tags": []
          },
          "execution_count": 81
        }
      ]
    },
    {
      "cell_type": "code",
      "metadata": {
        "colab": {
          "base_uri": "https://localhost:8080/"
        },
        "id": "-z8_8M_jg-79",
        "outputId": "92d2694c-1c14-406b-de92-9e47b8a883f4"
      },
      "source": [
        "myDict['Pink']"
      ],
      "execution_count": 82,
      "outputs": [
        {
          "output_type": "execute_result",
          "data": {
            "text/plain": [
              "3"
            ]
          },
          "metadata": {
            "tags": []
          },
          "execution_count": 82
        }
      ]
    },
    {
      "cell_type": "code",
      "metadata": {
        "colab": {
          "base_uri": "https://localhost:8080/"
        },
        "id": "i3foSyD3hKvt",
        "outputId": "1940d237-608c-4589-b3be-f6010137a1d7"
      },
      "source": [
        "myDict.keys()"
      ],
      "execution_count": 83,
      "outputs": [
        {
          "output_type": "execute_result",
          "data": {
            "text/plain": [
              "dict_keys(['Orange', 'Blue', 'Pink'])"
            ]
          },
          "metadata": {
            "tags": []
          },
          "execution_count": 83
        }
      ]
    },
    {
      "cell_type": "code",
      "metadata": {
        "colab": {
          "base_uri": "https://localhost:8080/"
        },
        "id": "JJA6L_jnhTL4",
        "outputId": "4aa5d9b4-a271-429b-a2d7-5ec815ebf763"
      },
      "source": [
        "myDict.values()"
      ],
      "execution_count": 84,
      "outputs": [
        {
          "output_type": "execute_result",
          "data": {
            "text/plain": [
              "dict_values([1, 2, 3])"
            ]
          },
          "metadata": {
            "tags": []
          },
          "execution_count": 84
        }
      ]
    },
    {
      "cell_type": "code",
      "metadata": {
        "colab": {
          "base_uri": "https://localhost:8080/"
        },
        "id": "RFDzN_quhplJ",
        "outputId": "89e18291-5f03-4a1a-9c3b-3c352f00038b"
      },
      "source": [
        "myDict.items()"
      ],
      "execution_count": 86,
      "outputs": [
        {
          "output_type": "execute_result",
          "data": {
            "text/plain": [
              "dict_items([('Orange', 1), ('Blue', 2), ('Pink', 3)])"
            ]
          },
          "metadata": {
            "tags": []
          },
          "execution_count": 86
        }
      ]
    },
    {
      "cell_type": "code",
      "metadata": {
        "colab": {
          "base_uri": "https://localhost:8080/"
        },
        "id": "GbWP4sjJhY1D",
        "outputId": "d0b810c0-4946-4b8a-d71f-bd8dd270335d"
      },
      "source": [
        "for key, value in myDict.items():\n",
        "    print(key, \"\\t\", value)"
      ],
      "execution_count": 85,
      "outputs": [
        {
          "output_type": "stream",
          "text": [
            "Orange \t 1\n",
            "Blue \t 2\n",
            "Pink \t 3\n"
          ],
          "name": "stdout"
        }
      ]
    }
  ]
}