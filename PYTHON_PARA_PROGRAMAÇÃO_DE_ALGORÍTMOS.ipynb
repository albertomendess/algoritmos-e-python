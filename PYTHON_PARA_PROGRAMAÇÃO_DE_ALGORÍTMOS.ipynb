{
  "nbformat": 4,
  "nbformat_minor": 0,
  "metadata": {
    "colab": {
      "name": "PYTHON PARA PROGRAMAÇÃO DE ALGORÍTMOS.ipynb",
      "provenance": [],
      "authorship_tag": "ABX9TyN75xzVLHNzMcfZxCFlmKzK",
      "include_colab_link": true
    },
    "kernelspec": {
      "name": "python3",
      "display_name": "Python 3"
    },
    "language_info": {
      "name": "python"
    }
  },
  "cells": [
    {
      "cell_type": "markdown",
      "metadata": {
        "id": "view-in-github",
        "colab_type": "text"
      },
      "source": [
        "<a href=\"https://colab.research.google.com/github/albertomendess/algoritmos-e-python/blob/main/PYTHON_PARA_PROGRAMA%C3%87%C3%83O_DE_ALGOR%C3%8DTMOS.ipynb\" target=\"_parent\"><img src=\"https://colab.research.google.com/assets/colab-badge.svg\" alt=\"Open In Colab\"/></a>"
      ]
    },
    {
      "cell_type": "code",
      "metadata": {
        "id": "Bz-HTfRYKIA3"
      },
      "source": [
        "import numpy as np"
      ],
      "execution_count": 38,
      "outputs": []
    },
    {
      "cell_type": "markdown",
      "metadata": {
        "id": "G223iZpc2vIE"
      },
      "source": [
        "# CRIANDO E USANDO STRINGS"
      ]
    },
    {
      "cell_type": "code",
      "metadata": {
        "colab": {
          "base_uri": "https://localhost:8080/"
        },
        "id": "EixYanNj0BDD",
        "outputId": "b6186491-63d6-4563-9857-20004b8970d0"
      },
      "source": [
        "ord(\"A\")"
      ],
      "execution_count": 1,
      "outputs": [
        {
          "output_type": "execute_result",
          "data": {
            "text/plain": [
              "65"
            ]
          },
          "metadata": {
            "tags": []
          },
          "execution_count": 1
        }
      ]
    },
    {
      "cell_type": "code",
      "metadata": {
        "colab": {
          "base_uri": "https://localhost:8080/"
        },
        "id": "6vmmeoPn0izL",
        "outputId": "94fc0e0b-802b-4701-e78c-05d1da75ea47"
      },
      "source": [
        "ord(\"a\")"
      ],
      "execution_count": 2,
      "outputs": [
        {
          "output_type": "execute_result",
          "data": {
            "text/plain": [
              "97"
            ]
          },
          "metadata": {
            "tags": []
          },
          "execution_count": 2
        }
      ]
    },
    {
      "cell_type": "code",
      "metadata": {
        "id": "43_8MOlQ0tl3"
      },
      "source": [
        "a = ord(\"a\")"
      ],
      "execution_count": 3,
      "outputs": []
    },
    {
      "cell_type": "code",
      "metadata": {
        "colab": {
          "base_uri": "https://localhost:8080/"
        },
        "id": "MgHyrvyN06xy",
        "outputId": "0ba2ea11-8e57-404d-f575-e16563d13510"
      },
      "source": [
        "a"
      ],
      "execution_count": 4,
      "outputs": [
        {
          "output_type": "execute_result",
          "data": {
            "text/plain": [
              "97"
            ]
          },
          "metadata": {
            "tags": []
          },
          "execution_count": 4
        }
      ]
    },
    {
      "cell_type": "code",
      "metadata": {
        "id": "8TYDVfD208Xo"
      },
      "source": [
        "myInt = int(\"123\")"
      ],
      "execution_count": 5,
      "outputs": []
    },
    {
      "cell_type": "code",
      "metadata": {
        "colab": {
          "base_uri": "https://localhost:8080/"
        },
        "id": "TmAMToQu1MvY",
        "outputId": "07f7d8b5-12cb-4345-c7b3-c87dc0defa1a"
      },
      "source": [
        "myInt"
      ],
      "execution_count": 6,
      "outputs": [
        {
          "output_type": "execute_result",
          "data": {
            "text/plain": [
              "123"
            ]
          },
          "metadata": {
            "tags": []
          },
          "execution_count": 6
        }
      ]
    },
    {
      "cell_type": "code",
      "metadata": {
        "colab": {
          "base_uri": "https://localhost:8080/",
          "height": 35
        },
        "id": "ktYM2D3o1RkB",
        "outputId": "964193cc-9918-4290-f64f-64922fbf4f1a"
      },
      "source": [
        "myStr = str(1234.56)\n",
        "myStr"
      ],
      "execution_count": 7,
      "outputs": [
        {
          "output_type": "execute_result",
          "data": {
            "application/vnd.google.colaboratory.intrinsic+json": {
              "type": "string"
            },
            "text/plain": [
              "'1234.56'"
            ]
          },
          "metadata": {
            "tags": []
          },
          "execution_count": 7
        }
      ]
    },
    {
      "cell_type": "code",
      "metadata": {
        "id": "JZdNcl991ell"
      },
      "source": [
        "a = 1\n",
        "b = \"1\""
      ],
      "execution_count": 8,
      "outputs": []
    },
    {
      "cell_type": "markdown",
      "metadata": {
        "id": "_H3dhDrP250g"
      },
      "source": [
        "## OPERADORES DE ASSOCIAÇÃO DE PYTHON"
      ]
    },
    {
      "cell_type": "code",
      "metadata": {
        "id": "i1D2wtYU3W2Z"
      },
      "source": [
        "a = \"Hello Everyone\"\n",
        "b = \"Hello\""
      ],
      "execution_count": 9,
      "outputs": []
    },
    {
      "cell_type": "code",
      "metadata": {
        "colab": {
          "base_uri": "https://localhost:8080/"
        },
        "id": "M4NgIuJs3cJW",
        "outputId": "8eb3d8b8-31f5-4f63-c56a-786d60b61c65"
      },
      "source": [
        "b in a"
      ],
      "execution_count": 10,
      "outputs": [
        {
          "output_type": "execute_result",
          "data": {
            "text/plain": [
              "True"
            ]
          },
          "metadata": {
            "tags": []
          },
          "execution_count": 10
        }
      ]
    },
    {
      "cell_type": "code",
      "metadata": {
        "colab": {
          "base_uri": "https://localhost:8080/"
        },
        "id": "YtjuYGdM39m8",
        "outputId": "b7b98418-93ad-4515-ce09-ea4289a3712c"
      },
      "source": [
        "b not in a"
      ],
      "execution_count": 11,
      "outputs": [
        {
          "output_type": "execute_result",
          "data": {
            "text/plain": [
              "False"
            ]
          },
          "metadata": {
            "tags": []
          },
          "execution_count": 11
        }
      ]
    },
    {
      "cell_type": "markdown",
      "metadata": {
        "id": "v9PAbb5I2fRw"
      },
      "source": [
        "## OPERADORES DE IDENTIDADE DE PYTHON"
      ]
    },
    {
      "cell_type": "code",
      "metadata": {
        "colab": {
          "base_uri": "https://localhost:8080/"
        },
        "id": "4-mw1B732WYz",
        "outputId": "def0e899-443d-4a13-99e0-f62b4b64fa99"
      },
      "source": [
        "a is b"
      ],
      "execution_count": 12,
      "outputs": [
        {
          "output_type": "execute_result",
          "data": {
            "text/plain": [
              "False"
            ]
          },
          "metadata": {
            "tags": []
          },
          "execution_count": 12
        }
      ]
    },
    {
      "cell_type": "code",
      "metadata": {
        "colab": {
          "base_uri": "https://localhost:8080/"
        },
        "id": "rhvSoykb2YEd",
        "outputId": "66a10c97-ac9b-4828-81f6-64d8f9425650"
      },
      "source": [
        "a is not b"
      ],
      "execution_count": 13,
      "outputs": [
        {
          "output_type": "execute_result",
          "data": {
            "text/plain": [
              "True"
            ]
          },
          "metadata": {
            "tags": []
          },
          "execution_count": 13
        }
      ]
    },
    {
      "cell_type": "markdown",
      "metadata": {
        "id": "JKFSqagn4OIO"
      },
      "source": [
        "# INTERAGINDO COM DATAS"
      ]
    },
    {
      "cell_type": "code",
      "metadata": {
        "id": "sCT9j5W12a49"
      },
      "source": [
        "import datetime"
      ],
      "execution_count": 14,
      "outputs": []
    },
    {
      "cell_type": "code",
      "metadata": {
        "colab": {
          "base_uri": "https://localhost:8080/"
        },
        "id": "vcbPEKFh5ICn",
        "outputId": "5b41dfb9-3f83-4db3-e3eb-b894ef6d1abc"
      },
      "source": [
        "datetime.datetime.now()"
      ],
      "execution_count": 15,
      "outputs": [
        {
          "output_type": "execute_result",
          "data": {
            "text/plain": [
              "datetime.datetime(2021, 4, 24, 18, 29, 56, 720916)"
            ]
          },
          "metadata": {
            "tags": []
          },
          "execution_count": 15
        }
      ]
    },
    {
      "cell_type": "code",
      "metadata": {
        "colab": {
          "base_uri": "https://localhost:8080/",
          "height": 35
        },
        "id": "Yvh2SmJR5NMK",
        "outputId": "327b7618-054a-4d39-869a-0b3ada8035ef"
      },
      "source": [
        "str(datetime.datetime.now().date())"
      ],
      "execution_count": 16,
      "outputs": [
        {
          "output_type": "execute_result",
          "data": {
            "application/vnd.google.colaboratory.intrinsic+json": {
              "type": "string"
            },
            "text/plain": [
              "'2021-04-24'"
            ]
          },
          "metadata": {
            "tags": []
          },
          "execution_count": 16
        }
      ]
    },
    {
      "cell_type": "code",
      "metadata": {
        "colab": {
          "base_uri": "https://localhost:8080/",
          "height": 35
        },
        "id": "JkhXfCQg5el0",
        "outputId": "7c572e43-c2e0-4674-b07d-e2c5034b3dea"
      },
      "source": [
        "str(datetime.datetime.now().time())"
      ],
      "execution_count": 17,
      "outputs": [
        {
          "output_type": "execute_result",
          "data": {
            "application/vnd.google.colaboratory.intrinsic+json": {
              "type": "string"
            },
            "text/plain": [
              "'18:29:56.756516'"
            ]
          },
          "metadata": {
            "tags": []
          },
          "execution_count": 17
        }
      ]
    },
    {
      "cell_type": "markdown",
      "metadata": {
        "id": "2KTtG2l76A3v"
      },
      "source": [
        "# CRIANDO E USANDO FUNÇÕES"
      ]
    },
    {
      "cell_type": "code",
      "metadata": {
        "id": "RiEOUZ7A6Iue"
      },
      "source": [
        "def SayHello():\n",
        "    print(\"Hello There!\")"
      ],
      "execution_count": 18,
      "outputs": []
    },
    {
      "cell_type": "code",
      "metadata": {
        "colab": {
          "base_uri": "https://localhost:8080/"
        },
        "id": "n6jmcKU77rlF",
        "outputId": "4135973a-dfa1-4bd7-e7e0-88616c4aa63b"
      },
      "source": [
        "SayHello()"
      ],
      "execution_count": 19,
      "outputs": [
        {
          "output_type": "stream",
          "text": [
            "Hello There!\n"
          ],
          "name": "stdout"
        }
      ]
    },
    {
      "cell_type": "code",
      "metadata": {
        "colab": {
          "base_uri": "https://localhost:8080/"
        },
        "id": "iIdfIbm08CkB",
        "outputId": "3e544b9e-d269-4cc4-c680-70b078d6bb95"
      },
      "source": [
        "SayHello"
      ],
      "execution_count": 20,
      "outputs": [
        {
          "output_type": "execute_result",
          "data": {
            "text/plain": [
              "<function __main__.SayHello>"
            ]
          },
          "metadata": {
            "tags": []
          },
          "execution_count": 20
        }
      ]
    },
    {
      "cell_type": "markdown",
      "metadata": {
        "id": "IwM6be3P8SI4"
      },
      "source": [
        "##CHAMANDO FUNÇÕES"
      ]
    },
    {
      "cell_type": "markdown",
      "metadata": {
        "id": "-jw_wkSzn1P-"
      },
      "source": [
        "##ARGUMENTOS DE REQUISIÇÃO DE ENVIO"
      ]
    },
    {
      "cell_type": "code",
      "metadata": {
        "id": "N5MiArJb8Lx2"
      },
      "source": [
        "def DoSum(Value1, Value2):\n",
        "    return Value1 + Value2"
      ],
      "execution_count": 21,
      "outputs": []
    },
    {
      "cell_type": "code",
      "metadata": {
        "colab": {
          "base_uri": "https://localhost:8080/"
        },
        "id": "a93778NRobaS",
        "outputId": "7bd88f48-8a8e-428b-f978-e93dbc84da4b"
      },
      "source": [
        "DoSum(1, 2)"
      ],
      "execution_count": 22,
      "outputs": [
        {
          "output_type": "execute_result",
          "data": {
            "text/plain": [
              "3"
            ]
          },
          "metadata": {
            "tags": []
          },
          "execution_count": 22
        }
      ]
    },
    {
      "cell_type": "markdown",
      "metadata": {
        "id": "414tSertosql"
      },
      "source": [
        "###ENVIANDO ARGUMENTOS POR PALAVRA-CHAVE"
      ]
    },
    {
      "cell_type": "code",
      "metadata": {
        "id": "ovpcCbWIoeD-"
      },
      "source": [
        "def DisplaySum(Value1, Value2):\n",
        "    print(str(Value1) + ' + ' + str(Value2) + ' = ' +\n",
        "    str((Value1 + Value2)))"
      ],
      "execution_count": 23,
      "outputs": []
    },
    {
      "cell_type": "code",
      "metadata": {
        "colab": {
          "base_uri": "https://localhost:8080/"
        },
        "id": "Yxs37A5wp6NY",
        "outputId": "ce175fb6-58de-42ca-92d3-4d6ccdba054e"
      },
      "source": [
        "DisplaySum(2, 3)"
      ],
      "execution_count": 24,
      "outputs": [
        {
          "output_type": "stream",
          "text": [
            "2 + 3 = 5\n"
          ],
          "name": "stdout"
        }
      ]
    },
    {
      "cell_type": "code",
      "metadata": {
        "colab": {
          "base_uri": "https://localhost:8080/"
        },
        "id": "QzUhjiQvqUsJ",
        "outputId": "5027e7c8-7d6a-4681-ee00-299673820ea5"
      },
      "source": [
        "DisplaySum(Value2=3, Value1=2)"
      ],
      "execution_count": 25,
      "outputs": [
        {
          "output_type": "stream",
          "text": [
            "2 + 3 = 5\n"
          ],
          "name": "stdout"
        }
      ]
    },
    {
      "cell_type": "markdown",
      "metadata": {
        "id": "BfrO7-xvqlu8"
      },
      "source": [
        "###DANDO UM VALOR PADRÃO A ARGUMENTOS DE FUNÇÃO"
      ]
    },
    {
      "cell_type": "code",
      "metadata": {
        "id": "M4w-S8mzqjRu"
      },
      "source": [
        "def SayHello(Greeting = \"No Value Supplied\"):\n",
        "    print(Greeting)"
      ],
      "execution_count": 26,
      "outputs": []
    },
    {
      "cell_type": "code",
      "metadata": {
        "colab": {
          "base_uri": "https://localhost:8080/"
        },
        "id": "oICz8kMkrTYS",
        "outputId": "5dccdf33-5d59-4c91-af10-d96e3186b10c"
      },
      "source": [
        "SayHello()"
      ],
      "execution_count": 27,
      "outputs": [
        {
          "output_type": "stream",
          "text": [
            "No Value Supplied\n"
          ],
          "name": "stdout"
        }
      ]
    },
    {
      "cell_type": "code",
      "metadata": {
        "colab": {
          "base_uri": "https://localhost:8080/"
        },
        "id": "Q6ez8Z4XrVem",
        "outputId": "f70cb71c-b21f-4a53-89c2-8c5a8d52d474"
      },
      "source": [
        "SayHello(\"Howdy!\")"
      ],
      "execution_count": 28,
      "outputs": [
        {
          "output_type": "stream",
          "text": [
            "Howdy!\n"
          ],
          "name": "stdout"
        }
      ]
    },
    {
      "cell_type": "markdown",
      "metadata": {
        "id": "8QHkP1MZr4AU"
      },
      "source": [
        "###CRIANDO FUNÇÕES COM UM NÚMERO VARIÁVEL DE ARGUMENTOS"
      ]
    },
    {
      "cell_type": "code",
      "metadata": {
        "id": "sgrbpVdPrtr_"
      },
      "source": [
        "def DisplayMulti(ArgCount = 0, *VarArgs):\n",
        "    print(\"You passed \" + str(ArgCount) + \" arguments.\", VarArgs)"
      ],
      "execution_count": 29,
      "outputs": []
    },
    {
      "cell_type": "code",
      "metadata": {
        "colab": {
          "base_uri": "https://localhost:8080/"
        },
        "id": "-g5MfUP9tEt2",
        "outputId": "a8872871-d121-42a5-9abe-497306907a7a"
      },
      "source": [
        "DisplayMulti()"
      ],
      "execution_count": 30,
      "outputs": [
        {
          "output_type": "stream",
          "text": [
            "You passed 0 arguments. ()\n"
          ],
          "name": "stdout"
        }
      ]
    },
    {
      "cell_type": "code",
      "metadata": {
        "colab": {
          "base_uri": "https://localhost:8080/"
        },
        "id": "K6XLfKdDtIsG",
        "outputId": "89c2b872-8653-472b-b5bd-38e1eff457ad"
      },
      "source": [
        "DisplayMulti(3, 'a', 'b', 'c')"
      ],
      "execution_count": 31,
      "outputs": [
        {
          "output_type": "stream",
          "text": [
            "You passed 3 arguments. ('a', 'b', 'c')\n"
          ],
          "name": "stdout"
        }
      ]
    },
    {
      "cell_type": "markdown",
      "metadata": {
        "id": "Zotc_QcutjV7"
      },
      "source": [
        "#USANDO EXPRESSÕES CONDICIONAIS E DE LOOP"
      ]
    },
    {
      "cell_type": "markdown",
      "metadata": {
        "id": "qUVUZX3etyPM"
      },
      "source": [
        "###TOMANDO DECISÕES USANDO A EXPRESSÃO 'if'"
      ]
    },
    {
      "cell_type": "code",
      "metadata": {
        "id": "DZZ3RJvKtfNf"
      },
      "source": [
        "def TestValue(Value):\n",
        "    if Value <= 5:\n",
        "        print(\"Value less than or equal to 5\")\n",
        "    elif Value <= 10:\n",
        "        print(\"Value less than or equal to 10\")\n",
        "    else:\n",
        "        print(\"Value greater than 10.\")"
      ],
      "execution_count": 32,
      "outputs": []
    },
    {
      "cell_type": "code",
      "metadata": {
        "colab": {
          "base_uri": "https://localhost:8080/"
        },
        "id": "UfZeM8auvd3E",
        "outputId": "de6dbe8c-dab2-4758-c217-c31416b80b9b"
      },
      "source": [
        "TestValue(10)"
      ],
      "execution_count": 33,
      "outputs": [
        {
          "output_type": "stream",
          "text": [
            "Value less than or equal to 10\n"
          ],
          "name": "stdout"
        }
      ]
    },
    {
      "cell_type": "markdown",
      "metadata": {
        "id": "6mkms6sZxwgr"
      },
      "source": [
        "###ESCOLHENDO ENTRE VÁRIAS OPÇÕES USANDO DECISÕES ANINHADAS"
      ]
    },
    {
      "cell_type": "code",
      "metadata": {
        "id": "gA6Cu5sfvhqT"
      },
      "source": [
        "def SecretNumber():\n",
        "    One = int(input(\"Type a number between 1 and 10: \"))\n",
        "    Two = int(input(\"Type a number between 1 and 10: \"))\n",
        "\n",
        "    if (One >= 1) and (One <= 10):\n",
        "        if (Two >= 1) and (Two <= 10):\n",
        "            print(\"Your secret number is: \" + str(One * Two))\n",
        "        else:\n",
        "            print(\"Incorret second value!\")\n",
        "    else:\n",
        "        print(\"Incorret second value!\")"
      ],
      "execution_count": 34,
      "outputs": []
    },
    {
      "cell_type": "code",
      "metadata": {
        "colab": {
          "base_uri": "https://localhost:8080/"
        },
        "id": "XaZ2Ww7_zsxS",
        "outputId": "52e40ef7-fc9e-401d-bd3a-1f9944ec5ebb"
      },
      "source": [
        "SecretNumber()"
      ],
      "execution_count": 36,
      "outputs": [
        {
          "output_type": "stream",
          "text": [
            "Type a number between 1 and 10: 1\n",
            "Type a number between 1 and 10: 1\n",
            "Your secret number is: 1\n"
          ],
          "name": "stdout"
        }
      ]
    },
    {
      "cell_type": "markdown",
      "metadata": {
        "id": "taIs-HRp0eIb"
      },
      "source": [
        "###EXECUTANDO TAREFAS REPETITIVAS USANDO O CICLO REPETITIVO 'for'"
      ]
    },
    {
      "cell_type": "code",
      "metadata": {
        "id": "iQYwphgI0FS3"
      },
      "source": [
        "def DisplayMulti(*VarArgs):\n",
        "    for Arg in VarArgs:\n",
        "        if Arg.upper() == 'CONT':\n",
        "            continue\n",
        "            print(\"Continue Argument: \" + Arg)\n",
        "        elif Arg.upper() == 'BREAK':\n",
        "            break\n",
        "            print(\"Break Argument: \" + Arg)\n",
        "        print(\"Good argument: \" + Arg)"
      ],
      "execution_count": null,
      "outputs": []
    },
    {
      "cell_type": "code",
      "metadata": {
        "id": "bzOy9WI51uNs"
      },
      "source": [
        "DisplayMulti('Hello', 'Goodbye', 'Python', 'Last')"
      ],
      "execution_count": null,
      "outputs": []
    },
    {
      "cell_type": "code",
      "metadata": {
        "id": "lpAwx8_O2dUc"
      },
      "source": [
        "DisplayMulti('Hello', 'cont', 'python', 'break', 'invisible')"
      ],
      "execution_count": null,
      "outputs": []
    },
    {
      "cell_type": "markdown",
      "metadata": {
        "id": "oroiUkYEDwXN"
      },
      "source": [
        "###USANDO A INSTRUÇÃO 'while'"
      ]
    },
    {
      "cell_type": "code",
      "metadata": {
        "id": "UR379FPL24B-"
      },
      "source": [
        "def SecretNumber():\n",
        "    GotIt = False\n",
        "    while GotIt == False:\n",
        "        One = int(input(\"Type a number between 1 and 10: \"))\n",
        "        Two = int(input(\"Type a number between 1 and 10: \"))\n",
        "\n",
        "        if (One >= 1) and (One <= 10):\n",
        "            if (Two >= 1) and (Two <= 10):\n",
        "                print(\"Secret number is: \" + str(One * Two))\n",
        "                GotIt = True\n",
        "                continue\n",
        "            else:\n",
        "                print(\"Incorrect second value!\")\n",
        "        else:\n",
        "            print(\"Incorrect first value!\")\n",
        "        print(\"Try again!\")"
      ],
      "execution_count": null,
      "outputs": []
    },
    {
      "cell_type": "code",
      "metadata": {
        "id": "SbXLg2ULA4oH"
      },
      "source": [
        "SecretNumber()"
      ],
      "execution_count": null,
      "outputs": []
    },
    {
      "cell_type": "markdown",
      "metadata": {
        "id": "U7BOTrXRUs_h"
      },
      "source": [
        "#ARMAZENANDO DADOS EM CONJUNTOS, LISTAS E TUPLAS"
      ]
    },
    {
      "cell_type": "markdown",
      "metadata": {
        "id": "h2WHiNTdXoeO"
      },
      "source": [
        "###CRIANDO CONJUNTOS"
      ]
    },
    {
      "cell_type": "code",
      "metadata": {
        "id": "Yr_c6H4fBM7U"
      },
      "source": [
        "setA = set(['red', 'Blue', 'Green', 'Black'])\n",
        "setB = set(['Black', 'Green', 'Yellow', 'Orange'])\n",
        "setX = setA.union(setB)\n",
        "setY = setA.intersection(setB)\n",
        "setZ = setA.difference(setB)"
      ],
      "execution_count": null,
      "outputs": []
    },
    {
      "cell_type": "code",
      "metadata": {
        "id": "eWKQnfiKWHv5"
      },
      "source": [
        "print('{0}\\n{1}\\n{2}'.format(setX, setY, setZ))"
      ],
      "execution_count": null,
      "outputs": []
    },
    {
      "cell_type": "code",
      "metadata": {
        "id": "Fh5uDfyAX1wJ"
      },
      "source": [
        "setA.issubset(setX)"
      ],
      "execution_count": null,
      "outputs": []
    },
    {
      "cell_type": "code",
      "metadata": {
        "id": "M0Xzgb4TYATe"
      },
      "source": [
        "setA.issuperset(setY)"
      ],
      "execution_count": null,
      "outputs": []
    },
    {
      "cell_type": "code",
      "metadata": {
        "id": "dLEz2IKQYWgp"
      },
      "source": [
        "setA.add('Purple')\n",
        "setA"
      ],
      "execution_count": null,
      "outputs": []
    },
    {
      "cell_type": "code",
      "metadata": {
        "id": "A9VBs55CYkdZ"
      },
      "source": [
        "setA.issubset(setX)"
      ],
      "execution_count": null,
      "outputs": []
    },
    {
      "cell_type": "markdown",
      "metadata": {
        "id": "Y4PYsLjBXs0H"
      },
      "source": [
        "###CRIANDO LISTAS"
      ]
    },
    {
      "cell_type": "code",
      "metadata": {
        "id": "xMycpYlmWfCx"
      },
      "source": [
        "listA = [0, 1, 2, 3]\n",
        "listB = [4, 5, 6, 7]"
      ],
      "execution_count": null,
      "outputs": []
    },
    {
      "cell_type": "code",
      "metadata": {
        "id": "a8B8mZsZaSAw"
      },
      "source": [
        "listA.extend(listB)"
      ],
      "execution_count": null,
      "outputs": []
    },
    {
      "cell_type": "code",
      "metadata": {
        "id": "pJXiOI0iaWXf"
      },
      "source": [
        "listA"
      ],
      "execution_count": null,
      "outputs": []
    },
    {
      "cell_type": "code",
      "metadata": {
        "id": "QjNq-wujaYSm"
      },
      "source": [
        "listA.append(-5)"
      ],
      "execution_count": null,
      "outputs": []
    },
    {
      "cell_type": "code",
      "metadata": {
        "id": "lOU8B-dlalsq"
      },
      "source": [
        "listA"
      ],
      "execution_count": null,
      "outputs": []
    },
    {
      "cell_type": "code",
      "metadata": {
        "id": "v0nxRT1baqRP"
      },
      "source": [
        "listA.remove(-5)"
      ],
      "execution_count": null,
      "outputs": []
    },
    {
      "cell_type": "code",
      "metadata": {
        "id": "t1ED5-Hra3Pp"
      },
      "source": [
        "listA"
      ],
      "execution_count": null,
      "outputs": []
    },
    {
      "cell_type": "code",
      "metadata": {
        "id": "92-3_Woqa4h0"
      },
      "source": [
        "listX = [10, 20, 30, 40]\n",
        "listY = [50, 60, 70, 80]"
      ],
      "execution_count": null,
      "outputs": []
    },
    {
      "cell_type": "code",
      "metadata": {
        "id": "iA0UDgnFbNls"
      },
      "source": [
        "listZ = listX + listY"
      ],
      "execution_count": null,
      "outputs": []
    },
    {
      "cell_type": "code",
      "metadata": {
        "id": "aaKIDBnlbTvs"
      },
      "source": [
        "listZ"
      ],
      "execution_count": null,
      "outputs": []
    },
    {
      "cell_type": "code",
      "metadata": {
        "id": "gvgAZ4zLbWis"
      },
      "source": [
        "listX"
      ],
      "execution_count": null,
      "outputs": []
    },
    {
      "cell_type": "code",
      "metadata": {
        "id": "CPMQ00vGbYFX"
      },
      "source": [
        "listY"
      ],
      "execution_count": null,
      "outputs": []
    },
    {
      "cell_type": "markdown",
      "metadata": {
        "id": "1medhPHhcF0u"
      },
      "source": [
        "###CRIANDO E USANDO TUPLAS"
      ]
    },
    {
      "cell_type": "code",
      "metadata": {
        "id": "6oWg2fxTb-Uq"
      },
      "source": [
        "myTuple = (1, 2, 3, (4, 5, 6, (7, 8, 9)))"
      ],
      "execution_count": null,
      "outputs": []
    },
    {
      "cell_type": "code",
      "metadata": {
        "id": "uGXda-0Ic99t"
      },
      "source": [
        "for value1 in myTuple:\n",
        "    if type(value1) == int:\n",
        "        print(value1)\n",
        "    else:\n",
        "        for value2 in value1:\n",
        "            if type(value2) == int:\n",
        "                print(\"\\t\", value2)\n",
        "            else:\n",
        "                for value3 in value2:\n",
        "                    print(\"\\t\\t\", value3)"
      ],
      "execution_count": null,
      "outputs": []
    },
    {
      "cell_type": "code",
      "metadata": {
        "id": "fgltlFfKdzx7"
      },
      "source": [
        "myNewTuple = myTuple.__add__((10, 11, 12, (13, 14, 15)))\n",
        "myNewTuple"
      ],
      "execution_count": null,
      "outputs": []
    },
    {
      "cell_type": "markdown",
      "metadata": {
        "id": "cAoLLa-BeXk6"
      },
      "source": [
        "#DEFININDO ITERADORES ÚTEIS"
      ]
    },
    {
      "cell_type": "code",
      "metadata": {
        "id": "YXUeg9kjeiJ5"
      },
      "source": [
        "listA = ['Orange', 'Yellow', 'Green', 'Brown', 'Red']\n",
        "listB = [1, 2, 3, 4, 5]"
      ],
      "execution_count": null,
      "outputs": []
    },
    {
      "cell_type": "code",
      "metadata": {
        "id": "lDfiDeVZez9W"
      },
      "source": [
        "listA[1]"
      ],
      "execution_count": null,
      "outputs": []
    },
    {
      "cell_type": "code",
      "metadata": {
        "id": "qSqH-JqBe48K"
      },
      "source": [
        "for value in listB[1:3]:\n",
        "    print(value)"
      ],
      "execution_count": null,
      "outputs": []
    },
    {
      "cell_type": "code",
      "metadata": {
        "id": "pbclESd7fJu8"
      },
      "source": [
        "listA[:3]"
      ],
      "execution_count": null,
      "outputs": []
    },
    {
      "cell_type": "code",
      "metadata": {
        "id": "Kg3eo2Tzfle_"
      },
      "source": [
        "for value1, value2 in zip(listA, listB):\n",
        "    print(value1, '\\t', value2)"
      ],
      "execution_count": null,
      "outputs": []
    },
    {
      "cell_type": "markdown",
      "metadata": {
        "id": "Fn38UgcNf__J"
      },
      "source": [
        "#INDEXANDO DADOS USANDO DICIONÁRIOS"
      ]
    },
    {
      "cell_type": "code",
      "metadata": {
        "id": "kBr2TX7Ngjd9"
      },
      "source": [
        "myDict = {'Orange': 1, 'Blue': 2, 'Pink':3}"
      ],
      "execution_count": null,
      "outputs": []
    },
    {
      "cell_type": "code",
      "metadata": {
        "id": "kxXyod9kg9ya"
      },
      "source": [
        "myDict"
      ],
      "execution_count": null,
      "outputs": []
    },
    {
      "cell_type": "code",
      "metadata": {
        "id": "-z8_8M_jg-79"
      },
      "source": [
        "myDict['Pink']"
      ],
      "execution_count": null,
      "outputs": []
    },
    {
      "cell_type": "code",
      "metadata": {
        "id": "i3foSyD3hKvt"
      },
      "source": [
        "myDict.keys()"
      ],
      "execution_count": null,
      "outputs": []
    },
    {
      "cell_type": "code",
      "metadata": {
        "id": "JJA6L_jnhTL4"
      },
      "source": [
        "myDict.values()"
      ],
      "execution_count": null,
      "outputs": []
    },
    {
      "cell_type": "code",
      "metadata": {
        "id": "RFDzN_quhplJ"
      },
      "source": [
        "myDict.items()"
      ],
      "execution_count": null,
      "outputs": []
    },
    {
      "cell_type": "code",
      "metadata": {
        "id": "GbWP4sjJhY1D"
      },
      "source": [
        "for key, value in myDict.items():\n",
        "    print(key, \"\\t\", value)"
      ],
      "execution_count": null,
      "outputs": []
    },
    {
      "cell_type": "markdown",
      "metadata": {
        "id": "YtM6SVgdHaeh"
      },
      "source": [
        "## Definindo operações matriciais avançadas"
      ]
    },
    {
      "cell_type": "code",
      "metadata": {
        "colab": {
          "base_uri": "https://localhost:8080/"
        },
        "id": "gteqkcbkHZMS",
        "outputId": "2a40450d-92bb-4b4c-9d94-25f2a49ca713"
      },
      "source": [
        "changeIt = np.array([1, 2, 3, 4, 5, 6, 7, 8])\n",
        "\n",
        "changeIt"
      ],
      "execution_count": 39,
      "outputs": [
        {
          "output_type": "execute_result",
          "data": {
            "text/plain": [
              "array([1, 2, 3, 4, 5, 6, 7, 8])"
            ]
          },
          "metadata": {
            "tags": []
          },
          "execution_count": 39
        }
      ]
    },
    {
      "cell_type": "code",
      "metadata": {
        "colab": {
          "base_uri": "https://localhost:8080/"
        },
        "id": "m5SwhZG2KCk_",
        "outputId": "6f5932fe-d397-4c4c-d13d-f47796a7a0a0"
      },
      "source": [
        "changeIt.reshape(2, 4)"
      ],
      "execution_count": 40,
      "outputs": [
        {
          "output_type": "execute_result",
          "data": {
            "text/plain": [
              "array([[1, 2, 3, 4],\n",
              "       [5, 6, 7, 8]])"
            ]
          },
          "metadata": {
            "tags": []
          },
          "execution_count": 40
        }
      ]
    },
    {
      "cell_type": "code",
      "metadata": {
        "colab": {
          "base_uri": "https://localhost:8080/"
        },
        "id": "IExN4jhYKU9W",
        "outputId": "0119a074-bbd9-44c4-c8bc-79a5070353ea"
      },
      "source": [
        "changeIt.reshape(2, 2, 2)"
      ],
      "execution_count": 42,
      "outputs": [
        {
          "output_type": "execute_result",
          "data": {
            "text/plain": [
              "array([[[1, 2],\n",
              "        [3, 4]],\n",
              "\n",
              "       [[5, 6],\n",
              "        [7, 8]]])"
            ]
          },
          "metadata": {
            "tags": []
          },
          "execution_count": 42
        }
      ]
    },
    {
      "cell_type": "code",
      "metadata": {
        "colab": {
          "base_uri": "https://localhost:8080/"
        },
        "id": "gqonAVJEKbTp",
        "outputId": "c85534ea-8d41-4ad1-945b-5d755cc2f0f8"
      },
      "source": [
        "changeIt = changeIt.reshape(2, 4)\n",
        "changeIt"
      ],
      "execution_count": 46,
      "outputs": [
        {
          "output_type": "execute_result",
          "data": {
            "text/plain": [
              "array([[1, 2, 3, 4],\n",
              "       [5, 6, 7, 8]])"
            ]
          },
          "metadata": {
            "tags": []
          },
          "execution_count": 46
        }
      ]
    },
    {
      "cell_type": "code",
      "metadata": {
        "colab": {
          "base_uri": "https://localhost:8080/"
        },
        "id": "2Jh6PwSFLsaA",
        "outputId": "86d8cf03-6dc4-4439-902b-2983ee50473f"
      },
      "source": [
        "np.transpose(changeIt)"
      ],
      "execution_count": 47,
      "outputs": [
        {
          "output_type": "execute_result",
          "data": {
            "text/plain": [
              "array([[1, 5],\n",
              "       [2, 6],\n",
              "       [3, 7],\n",
              "       [4, 8]])"
            ]
          },
          "metadata": {
            "tags": []
          },
          "execution_count": 47
        }
      ]
    },
    {
      "cell_type": "code",
      "metadata": {
        "colab": {
          "base_uri": "https://localhost:8080/"
        },
        "id": "pHLZV5PbMJiO",
        "outputId": "09b11f19-c44f-4afe-80ff-4d95175e46c9"
      },
      "source": [
        "np.identity(5)"
      ],
      "execution_count": 54,
      "outputs": [
        {
          "output_type": "execute_result",
          "data": {
            "text/plain": [
              "array([[1., 0., 0., 0., 0.],\n",
              "       [0., 1., 0., 0., 0.],\n",
              "       [0., 0., 1., 0., 0.],\n",
              "       [0., 0., 0., 1., 0.],\n",
              "       [0., 0., 0., 0., 1.]])"
            ]
          },
          "metadata": {
            "tags": []
          },
          "execution_count": 54
        }
      ]
    },
    {
      "cell_type": "code",
      "metadata": {
        "id": "2JOCGRPcM6xz"
      },
      "source": [
        "a = np.array([[1, 2], [3, 4]])\n",
        "b = np.linalg.inv(a)"
      ],
      "execution_count": 55,
      "outputs": []
    },
    {
      "cell_type": "code",
      "metadata": {
        "colab": {
          "base_uri": "https://localhost:8080/"
        },
        "id": "ya2Z_vEYNop4",
        "outputId": "8146c08d-e477-4ba9-e2db-0b843fed8ea5"
      },
      "source": [
        "np.allclose(np.dot(a, b), np.identity(2))"
      ],
      "execution_count": 56,
      "outputs": [
        {
          "output_type": "execute_result",
          "data": {
            "text/plain": [
              "True"
            ]
          },
          "metadata": {
            "tags": []
          },
          "execution_count": 56
        }
      ]
    },
    {
      "cell_type": "markdown",
      "metadata": {
        "id": "CvkMSs9yN6rK"
      },
      "source": [
        "## Criando combinações do jeito certo\n",
        "### Distinguindo permutações"
      ]
    },
    {
      "cell_type": "code",
      "metadata": {
        "id": "AHTfMl7tNwjl"
      },
      "source": [
        ""
      ],
      "execution_count": null,
      "outputs": []
    }
  ]
}